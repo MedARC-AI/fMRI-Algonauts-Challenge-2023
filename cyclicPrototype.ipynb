{
 "cells": [
  {
   "cell_type": "markdown",
   "metadata": {},
   "source": [
    "# Import packages and functions"
   ]
  },
  {
   "cell_type": "code",
   "execution_count": 1,
   "metadata": {},
   "outputs": [
    {
     "name": "stderr",
     "output_type": "stream",
     "text": [
      "OMP: Info #276: omp_set_nested routine deprecated, please use omp_set_max_active_levels instead.\n"
     ]
    }
   ],
   "source": [
    "# get custom models and functions\n",
    "import sys\n",
    "sys.path.append('../fMRI-reconstruction-NSD/src')\n",
    "from models import Clipper, BrainNetwork\n",
    "import utils"
   ]
  },
  {
   "cell_type": "code",
   "execution_count": 2,
   "metadata": {},
   "outputs": [],
   "source": [
    "import torch\n",
    "import os\n",
    "import numpy as np\n",
    "from torchvision import transforms\n",
    "from torch.utils.data import DataLoader, Dataset\n",
    "from pathlib import Path\n",
    "from PIL import Image\n",
    "from matplotlib import pyplot as plt\n",
    "from tqdm import tqdm\n",
    "from accelerate import Accelerator\n",
    "import argparse\n",
    "import torch.nn as nn"
   ]
  },
  {
   "cell_type": "code",
   "execution_count": 3,
   "metadata": {},
   "outputs": [
    {
     "name": "stdout",
     "output_type": "stream",
     "text": [
      "device: cuda\n",
      "Distributed environment: NO\n",
      "Num processes: 1\n",
      "Process index: 0\n",
      "Local process index: 0\n",
      "Device: cuda\n",
      "\n",
      "Mixed precision type: no\n",
      "\n",
      "distributed = False num_devices = 1 local rank = 0 world size = 1\n"
     ]
    }
   ],
   "source": [
    "# uses tf32 data type which is faster than standard float32\n",
    "torch.backends.cuda.matmul.allow_tf32 = True\n",
    "\n",
    "# Multi-GPU config #\n",
    "accelerator = Accelerator()\n",
    "print = accelerator.print # only print if local_rank=0\n",
    "\n",
    "device = accelerator.device\n",
    "print(\"device:\",device)\n",
    "\n",
    "num_devices = torch.cuda.device_count()\n",
    "if num_devices==0: num_devices = 1\n",
    "num_workers = num_devices\n",
    "\n",
    "print(accelerator.state)\n",
    "local_rank = accelerator.state.local_process_index\n",
    "world_size = accelerator.state.num_processes\n",
    "if num_devices<=1 and world_size<=1:\n",
    "    distributed=False\n",
    "else:\n",
    "    distributed=True\n",
    "print(\"distributed =\",distributed,\"num_devices =\", num_devices, \"local rank =\", local_rank, \"world size =\", world_size)"
   ]
  },
  {
   "cell_type": "code",
   "execution_count": 4,
   "metadata": {},
   "outputs": [],
   "source": [
    "data_dir = '../algonauts_2023_challenge_data'\n",
    "parent_submission_dir = 'algonauts_2023_challenge_submission'\n",
    "\n",
    "subj = 1 "
   ]
  },
  {
   "cell_type": "markdown",
   "metadata": {},
   "source": [
    "# Configurations"
   ]
  },
  {
   "cell_type": "code",
   "execution_count": 5,
   "metadata": {},
   "outputs": [
    {
     "name": "stdout",
     "output_type": "stream",
     "text": [
      "['--model_name=testing', '--clip_variant=ViT-L/14', '--batch_size=128']\n"
     ]
    }
   ],
   "source": [
    "# can specify jupyter_args here for argparser to use if running this code interactively\n",
    "if utils.is_interactive():\n",
    "    jupyter_args=[]\n",
    "    jupyter_args.append(\"--model_name=testing\")\n",
    "    jupyter_args.append(\"--clip_variant=ViT-L/14\")\n",
    "    jupyter_args.append(\"--batch_size=128\") # smaller to account for more loaded models.\n",
    "#     jupyter_args.append(\"--resume_from_ckpt\")\n",
    "    print(jupyter_args)\n",
    "    \n",
    "    %load_ext autoreload\n",
    "    %autoreload 2"
   ]
  },
  {
   "cell_type": "code",
   "execution_count": 6,
   "metadata": {},
   "outputs": [],
   "source": [
    "parser = argparse.ArgumentParser(description=\"Model Training Configuration\")\n",
    "parser.add_argument(\n",
    "    \"--model_name\", type=str, default=\"testing\",\n",
    "    help=\"name of model, used for ckpt saving and wandb logging\",\n",
    ")\n",
    "parser.add_argument(\n",
    "    \"--batch_size\", type=int, default=300,\n",
    "    help=\"Our maximum for A100 was 300 for 1dim voxels and 128 for 3dim voxels\",\n",
    ")\n",
    "parser.add_argument(\n",
    "    \"--clip_variant\",type=str,default=\"ViT-L/14\",choices=[\"RN50\", \"ViT-L/14\", \"ViT-B/32\", \"ViT-H-14\", \"RN50x64\"],\n",
    "    help='clip / openclip variant',\n",
    ")\n",
    "parser.add_argument(\n",
    "    \"--outdir\",type=str,default=None,\n",
    "    help=\"output directory for logs and checkpoints\",\n",
    ")\n",
    "# doesn't work in python 3.8\n",
    "# parser.add_argument(\n",
    "#     \"--resume_from_ckpt\",action=argparse.BooleanOptionalAction,default=False,\n",
    "#     help=\"if not using wandb and want to resume from a ckpt\",\n",
    "# )\n",
    "parser.add_argument(\n",
    "    '--resume_from_ckpt',\n",
    "    action='store_true',\n",
    "    default=False,\n",
    "    help='if not using wandb and want to resume from a ckpt.',\n",
    ")\n",
    "parser.add_argument(\n",
    "    \"--num_epochs\",type=int,default=120,\n",
    ")\n",
    "parser.add_argument(\n",
    "    \"--lr_scheduler\",type=str,default='cycle',choices=['cycle','fixed'],\n",
    ")\n",
    "# doesn't work in python 3.8\n",
    "# parser.add_argument(\n",
    "#     \"--ckpt_saving\",action=argparse.BooleanOptionalAction,default=True,\n",
    "# )\n",
    "parser.add_argument(\n",
    "    '--no_ckpt_saving',\n",
    "    action='store_false',\n",
    "    default=True,\n",
    ")\n",
    "\n",
    "parser.add_argument(\n",
    "    \"--ckpt_interval\",type=int,default=1,\n",
    "    help=\"save ckpt every x epochs\",\n",
    ")\n",
    "# parser.add_argument(\n",
    "#     \"--save_at_end\",action=argparse.BooleanOptionalAction,default=False,\n",
    "#     help=\"if False, will save best.ckpt whenever epoch shows best validation score\",\n",
    "# )\n",
    "parser.add_argument(\n",
    "    '--save_at_end',\n",
    "    action='store_true',\n",
    "    default=False,\n",
    "    help='if False, will save best.ckpt whenever epoch shows best validation score',\n",
    ")\n",
    "# parser.add_argument(\n",
    "#     \"--seed\",type=int,default=42,\n",
    "# )\n",
    "\n",
    "parser.add_argument(\n",
    "    \"--max_lr\",type=float,default=3e-4,\n",
    ")\n",
    "\n",
    "if utils.is_interactive():\n",
    "    args = parser.parse_args(jupyter_args)\n",
    "else:\n",
    "    args = parser.parse_args()\n",
    "\n",
    "# create global variables without the args prefix\n",
    "for attribute_name in vars(args).keys():\n",
    "    globals()[attribute_name] = getattr(args, attribute_name)"
   ]
  },
  {
   "cell_type": "code",
   "execution_count": 7,
   "metadata": {},
   "outputs": [],
   "source": [
    "if outdir is None:\n",
    "    outdir = os.path.abspath(f'train_logs/{model_name}')\n",
    "if not os.path.exists(outdir):\n",
    "    os.makedirs(outdir,exist_ok=True)"
   ]
  },
  {
   "cell_type": "markdown",
   "metadata": {},
   "source": [
    "# Prep Models and Dataloaders"
   ]
  },
  {
   "cell_type": "markdown",
   "metadata": {},
   "source": [
    "### Load Algonauts Images"
   ]
  },
  {
   "cell_type": "code",
   "execution_count": 8,
   "metadata": {},
   "outputs": [
    {
     "name": "stdout",
     "output_type": "stream",
     "text": [
      "Training images: 9841\n",
      "Test images: 159\n",
      "Training stimulus images: 8857\n",
      "\n",
      "Validation stimulus images: 984\n",
      "\n",
      "Test stimulus images: 159\n"
     ]
    }
   ],
   "source": [
    "class argObj:\n",
    "  def __init__(self, data_dir, parent_submission_dir, subj):\n",
    "    \n",
    "    self.subj = format(subj, '02')\n",
    "    self.data_dir = os.path.join(data_dir, 'subj'+self.subj)\n",
    "    self.parent_submission_dir = parent_submission_dir\n",
    "    self.subject_submission_dir = os.path.join(self.parent_submission_dir,\n",
    "        'subj'+self.subj)\n",
    "\n",
    "    # Create the submission directory if not existing\n",
    "    if not os.path.isdir(self.subject_submission_dir):\n",
    "        os.makedirs(self.subject_submission_dir)\n",
    "\n",
    "args = argObj(data_dir, parent_submission_dir, subj)\n",
    "\n",
    "train_img_dir  = os.path.join(args.data_dir, 'training_split', 'training_images')\n",
    "test_img_dir  = os.path.join(args.data_dir, 'test_split', 'test_images')\n",
    "\n",
    "# Create lists will all training and test image file names, sorted\n",
    "train_img_list = os.listdir(train_img_dir)\n",
    "train_img_list.sort()\n",
    "test_img_list = os.listdir(test_img_dir)\n",
    "test_img_list.sort()\n",
    "print('Training images: ' + str(len(train_img_list)))\n",
    "print('Test images: ' + str(len(test_img_list)))\n",
    "\n",
    "rand_seed = 5 #@param\n",
    "np.random.seed(rand_seed)\n",
    "\n",
    "# Calculate how many stimulus images correspond to 90% of the training data\n",
    "num_train = int(np.round(len(train_img_list) / 100 * 90))\n",
    "# Shuffle all training stimulus images\n",
    "idxs = np.arange(len(train_img_list))\n",
    "# np.random.shuffle(idxs)\n",
    "# Assign 90% of the shuffled stimulus images to the training partition,\n",
    "# and 10% to the test partition\n",
    "idxs_train, idxs_val = idxs[:num_train], idxs[num_train:]\n",
    "# No need to shuffle or split the test stimulus images\n",
    "idxs_test = np.arange(len(test_img_list))\n",
    "\n",
    "print('Training stimulus images: ' + format(len(idxs_train)))\n",
    "print('\\nValidation stimulus images: ' + format(len(idxs_val)))\n",
    "print('\\nTest stimulus images: ' + format(len(idxs_test)))\n",
    "\n",
    "transform = transforms.Compose([\n",
    "    transforms.ToTensor(), # convert the images to a PyTorch tensor\n",
    "])\n",
    "\n",
    "class ImageDataset(Dataset):\n",
    "    def __init__(self, imgs_paths, idxs, transform=None):\n",
    "        self.imgs_paths = np.array(imgs_paths)[idxs]\n",
    "        self.transform = transform\n",
    "\n",
    "    def __len__(self):\n",
    "        return len(self.imgs_paths)\n",
    "\n",
    "    def __getitem__(self, idx):\n",
    "        # Load the image\n",
    "        img_path = self.imgs_paths[idx]\n",
    "        img = Image.open(img_path).convert('RGB')\n",
    "        # Preprocess the image and send it to the chosen device ('cpu' or 'cuda')\n",
    "        if self.transform:\n",
    "            img = self.transform(img).to(device)\n",
    "        return img\n",
    "\n",
    "# Get the paths of all image files\n",
    "train_imgs_paths = sorted(list(Path(train_img_dir).iterdir()))\n",
    "test_imgs_paths = sorted(list(Path(test_img_dir).iterdir()))\n",
    "\n",
    "# The DataLoaders contain the ImageDataset class\n",
    "train_imgs_dataloader = DataLoader(\n",
    "    ImageDataset(train_imgs_paths, idxs_train, transform), \n",
    "    batch_size=batch_size, \n",
    ")\n",
    "val_imgs_dataloader = DataLoader(\n",
    "    ImageDataset(train_imgs_paths, idxs_val, transform), \n",
    "    batch_size=batch_size\n",
    ")\n",
    "test_imgs_dataloader = DataLoader(\n",
    "    ImageDataset(test_imgs_paths, idxs_test, transform), \n",
    "    batch_size=batch_size\n",
    ")\n",
    "\n",
    "# training_clip_dir = \"/scratch/gpfs/dw26/algonauts_2023_challenge_data/subj01/training_split/training_clip\"\n",
    "# validation_clip_dir = \"/scratch/gpfs/dw26/algonauts_2023_challenge_data/subj01/training_split/validation_clip\"\n",
    "# test_clip_dir = \"/scratch/gpfs/dw26/algonauts_2023_challenge_data/subj01/test_split/test_clip\"\n",
    "\n",
    "# if not os.path.isdir(training_clip_dir):\n",
    "#     os.makedirs(training_clip_dir)\n",
    "# if not os.path.isdir(validation_clip_dir):\n",
    "#     os.makedirs(validation_clip_dir)\n",
    "# if not os.path.isdir(test_clip_dir):\n",
    "#     os.makedirs(test_clip_dir)"
   ]
  },
  {
   "cell_type": "code",
   "execution_count": 9,
   "metadata": {},
   "outputs": [
    {
     "name": "stdout",
     "output_type": "stream",
     "text": [
      "ViT-L/14 cuda\n"
     ]
    }
   ],
   "source": [
    "# get clipper\n",
    "clip_extractor = Clipper(\"ViT-L/14\", device=torch.device(device)) # run in terminal to download\n",
    "\n",
    "# def img2clipfile(img_paths, dataloader, idxs, clip_dir):\n",
    "#     running_count=0\n",
    "#     for img_batch in tqdm(dataloader):\n",
    "#         clip_batch = clip_extractor.embed_image(img_batch)\n",
    "#         for clip in clip_batch:\n",
    "#             clip = clip.cpu().numpy()\n",
    "#             img_path = img_paths[idxs[running_count]]\n",
    "#             clip_file_name = str(img_path)[-24:-3]+\"npy\"\n",
    "#             np.save(os.path.join(training_clip_dir, clip_file_name), clip)\n",
    "#             running_count+=1\n",
    "        \n",
    "        \n",
    "# img2clipfile(train_imgs_paths, train_imgs_dataloader, idxs_train, training_clip_dir)\n",
    "# img2clipfile(train_imgs_paths, val_imgs_dataloader, idxs_val, validation_clip_dir)\n",
    "# img2clipfile(test_imgs_paths, test_imgs_dataloader, idxs_test, test_clip_dir)\n"
   ]
  },
  {
   "cell_type": "markdown",
   "metadata": {},
   "source": [
    "\n",
    "### Clip2Vert and Vert2CLip\n"
   ]
  },
  {
   "cell_type": "code",
   "execution_count": 10,
   "metadata": {},
   "outputs": [],
   "source": [
    "class CyclePrototype(nn.Module):\n",
    "    def __init__(self, brain_dim, clip_dim):\n",
    "        super().__init__()\n",
    "        self.brain_dim = dict(out_dim=brain_dim, in_dim=clip_dim)\n",
    "        self.clip_dim = dict(out_dim=clip_dim, in_dim=brain_dim)\n",
    "        self.clip2vert = BrainNetwork(**self.brain_dim)\n",
    "        self.vert2clip = BrainNetwork(**self.clip_dim)\n",
    "    def forward(self, x):\n",
    "        x = self.clip2vert(x)\n",
    "        x = self.vert2clip(x)\n",
    "        return x"
   ]
  },
  {
   "cell_type": "code",
   "execution_count": 11,
   "metadata": {},
   "outputs": [
    {
     "name": "stdout",
     "output_type": "stream",
     "text": [
      "params of cycle:\n",
      "param counts:\n",
      "263,527,832 total\n",
      "263,527,832 trainable\n",
      "\n",
      "Done with model preparations!\n"
     ]
    }
   ],
   "source": [
    "brain_dim = 15000\n",
    "clip_dim = 768\n",
    "cycle_kwargs = dict(brain_dim=brain_dim, clip_dim=clip_dim)\n",
    "cycle = CyclePrototype(**cycle_kwargs)\n",
    "\n",
    "print(\"params of cycle:\")\n",
    "if local_rank==0:\n",
    "    utils.count_params(cycle)\n",
    "    \n",
    "no_decay = ['bias']\n",
    "opt_grouped_parameters = [\n",
    "    {'params': [p for n, p in cycle.named_parameters() if not any(nd in n for nd in no_decay)], 'weight_decay': 1e-2},\n",
    "    {'params': [p for n, p in cycle.named_parameters() if any(nd in n for nd in no_decay)], 'weight_decay': 0.0}\n",
    "]\n",
    "optimizer = torch.optim.AdamW(opt_grouped_parameters, lr=3e-4) # lr doesnt get used if lr_scheduler='cycle'\n",
    "\n",
    "if lr_scheduler == 'fixed':\n",
    "    lr_scheduler = None\n",
    "elif lr_scheduler == 'cycle':\n",
    "    global_batch_size = batch_size * num_devices\n",
    "    total_steps=num_epochs*(num_train//global_batch_size)\n",
    "    lr_scheduler = torch.optim.lr_scheduler.OneCycleLR(\n",
    "        optimizer, \n",
    "        max_lr=max_lr,\n",
    "        total_steps=total_steps,\n",
    "        final_div_factor=1000,\n",
    "        last_epoch=-1, pct_start=2/num_epochs\n",
    "    )\n",
    "    \n",
    "def save_ckpt(tag):\n",
    "    ckpt_path = outdir+f'/{tag}.pth'\n",
    "    print(f'saving {ckpt_path}',flush=True)\n",
    "    state_dict = cycle.state_dict()\n",
    "    torch.save({\n",
    "        'epoch': epoch,\n",
    "        'model_state_dict': cycle.state_dict(),\n",
    "        'optimizer_state_dict': optimizer.state_dict(),\n",
    "        'lr_scheduler': lr_scheduler.state_dict(),\n",
    "        'train_losses': losses,\n",
    "        'val_losses': val_losses,\n",
    "        'lrs': lrs,\n",
    "        }, ckpt_path)\n",
    "        \n",
    "print(\"\\nDone with model preparations!\")\n"
   ]
  },
  {
   "cell_type": "code",
   "execution_count": 12,
   "metadata": {},
   "outputs": [
    {
     "name": "stdout",
     "output_type": "stream",
     "text": [
      "{'params': [Parameter containing:\n",
      "tensor([[-0.0274,  0.0262,  0.0306,  ...,  0.0046,  0.0231,  0.0192],\n",
      "        [ 0.0258, -0.0052, -0.0081,  ..., -0.0066,  0.0335, -0.0256],\n",
      "        [ 0.0162,  0.0047, -0.0127,  ..., -0.0336,  0.0245, -0.0276],\n",
      "        ...,\n",
      "        [-0.0314, -0.0147, -0.0239,  ..., -0.0291, -0.0279, -0.0006],\n",
      "        [-0.0191,  0.0258,  0.0016,  ...,  0.0285, -0.0250,  0.0188],\n",
      "        [-0.0231,  0.0289, -0.0231,  ..., -0.0349, -0.0241,  0.0051]],\n",
      "       requires_grad=True), Parameter containing:\n",
      "tensor([1., 1., 1.,  ..., 1., 1., 1.], requires_grad=True), Parameter containing:\n",
      "tensor([[ 0.0058,  0.0017,  0.0033,  ...,  0.0148,  0.0088, -0.0047],\n",
      "        [ 0.0083, -0.0133, -0.0063,  ..., -0.0155, -0.0121,  0.0077],\n",
      "        [ 0.0082, -0.0026,  0.0137,  ...,  0.0020,  0.0034,  0.0020],\n",
      "        ...,\n",
      "        [ 0.0069,  0.0137, -0.0151,  ...,  0.0018,  0.0145, -0.0026],\n",
      "        [ 0.0004,  0.0032,  0.0079,  ...,  0.0040, -0.0143,  0.0030],\n",
      "        [ 0.0123,  0.0009,  0.0128,  ...,  0.0108, -0.0106,  0.0041]],\n",
      "       requires_grad=True), Parameter containing:\n",
      "tensor([1., 1., 1.,  ..., 1., 1., 1.], requires_grad=True), Parameter containing:\n",
      "tensor([[-0.0138,  0.0028, -0.0001,  ...,  0.0099, -0.0139, -0.0029],\n",
      "        [ 0.0120,  0.0137, -0.0124,  ..., -0.0156, -0.0094,  0.0145],\n",
      "        [ 0.0132, -0.0142,  0.0084,  ...,  0.0123, -0.0019, -0.0074],\n",
      "        ...,\n",
      "        [-0.0059, -0.0085,  0.0113,  ..., -0.0043, -0.0055, -0.0060],\n",
      "        [ 0.0144, -0.0089,  0.0136,  ...,  0.0054, -0.0052, -0.0065],\n",
      "        [-0.0053,  0.0016, -0.0096,  ...,  0.0136, -0.0092, -0.0008]],\n",
      "       requires_grad=True), Parameter containing:\n",
      "tensor([1., 1., 1.,  ..., 1., 1., 1.], requires_grad=True), Parameter containing:\n",
      "tensor([[-0.0118,  0.0129, -0.0036,  ..., -0.0083,  0.0065,  0.0022],\n",
      "        [-0.0156, -0.0087,  0.0144,  ..., -0.0060,  0.0064,  0.0040],\n",
      "        [ 0.0053,  0.0006,  0.0062,  ...,  0.0065, -0.0132,  0.0075],\n",
      "        ...,\n",
      "        [-0.0065, -0.0052, -0.0084,  ...,  0.0040,  0.0149, -0.0062],\n",
      "        [-0.0119, -0.0110, -0.0014,  ..., -0.0130, -0.0044, -0.0085],\n",
      "        [ 0.0023, -0.0137, -0.0030,  ..., -0.0122,  0.0134,  0.0064]],\n",
      "       requires_grad=True), Parameter containing:\n",
      "tensor([1., 1., 1.,  ..., 1., 1., 1.], requires_grad=True), Parameter containing:\n",
      "tensor([[ 0.0134, -0.0036, -0.0044,  ..., -0.0093,  0.0012, -0.0133],\n",
      "        [ 0.0007,  0.0043,  0.0027,  ..., -0.0135, -0.0100, -0.0098],\n",
      "        [ 0.0007, -0.0028,  0.0088,  ...,  0.0044,  0.0078,  0.0026],\n",
      "        ...,\n",
      "        [ 0.0141, -0.0015,  0.0079,  ..., -0.0017,  0.0004, -0.0122],\n",
      "        [-0.0078, -0.0106,  0.0113,  ...,  0.0100,  0.0048, -0.0044],\n",
      "        [-0.0002,  0.0109, -0.0123,  ...,  0.0023, -0.0146, -0.0111]],\n",
      "       requires_grad=True), Parameter containing:\n",
      "tensor([1., 1., 1.,  ..., 1., 1., 1.], requires_grad=True), Parameter containing:\n",
      "tensor([[-0.0103,  0.0099,  0.0121,  ...,  0.0014,  0.0147, -0.0012],\n",
      "        [ 0.0050,  0.0152, -0.0019,  ..., -0.0017, -0.0152,  0.0070],\n",
      "        [ 0.0081, -0.0061, -0.0144,  ..., -0.0044, -0.0021,  0.0053],\n",
      "        ...,\n",
      "        [ 0.0149,  0.0037, -0.0087,  ..., -0.0035, -0.0125,  0.0108],\n",
      "        [-0.0061,  0.0049, -0.0010,  ..., -0.0110, -0.0089, -0.0027],\n",
      "        [ 0.0136,  0.0156, -0.0061,  ..., -0.0057,  0.0109, -0.0004]],\n",
      "       requires_grad=True), Parameter containing:\n",
      "tensor([[-0.0034, -0.0007, -0.0026,  ...,  0.0066,  0.0009, -0.0030],\n",
      "        [ 0.0043,  0.0061, -0.0018,  ...,  0.0031, -0.0005, -0.0059],\n",
      "        [ 0.0068, -0.0067, -0.0014,  ..., -0.0015,  0.0027,  0.0080],\n",
      "        ...,\n",
      "        [ 0.0075, -0.0059, -0.0030,  ...,  0.0070, -0.0017, -0.0027],\n",
      "        [-0.0007, -0.0078,  0.0075,  ...,  0.0043,  0.0007, -0.0074],\n",
      "        [ 0.0051,  0.0048,  0.0054,  ..., -0.0048,  0.0045, -0.0003]],\n",
      "       requires_grad=True), Parameter containing:\n",
      "tensor([1., 1., 1.,  ..., 1., 1., 1.], requires_grad=True), Parameter containing:\n",
      "tensor([[-0.0046, -0.0013,  0.0008,  ..., -0.0086, -0.0055,  0.0054],\n",
      "        [-0.0060, -0.0058,  0.0012,  ...,  0.0099, -0.0078,  0.0067],\n",
      "        [ 0.0091,  0.0140,  0.0140,  ...,  0.0120, -0.0124, -0.0136],\n",
      "        ...,\n",
      "        [-0.0026,  0.0145,  0.0120,  ..., -0.0127, -0.0086, -0.0052],\n",
      "        [-0.0136,  0.0050, -0.0032,  ...,  0.0099,  0.0145,  0.0053],\n",
      "        [ 0.0018, -0.0021, -0.0135,  ..., -0.0085,  0.0127,  0.0086]],\n",
      "       requires_grad=True), Parameter containing:\n",
      "tensor([1., 1., 1.,  ..., 1., 1., 1.], requires_grad=True), Parameter containing:\n",
      "tensor([[-0.0058, -0.0091, -0.0093,  ...,  0.0140,  0.0069, -0.0014],\n",
      "        [ 0.0047, -0.0097, -0.0097,  ...,  0.0131,  0.0061,  0.0049],\n",
      "        [-0.0109,  0.0048,  0.0020,  ...,  0.0038,  0.0026, -0.0115],\n",
      "        ...,\n",
      "        [ 0.0021,  0.0081,  0.0079,  ..., -0.0046,  0.0074,  0.0065],\n",
      "        [-0.0037,  0.0066,  0.0063,  ...,  0.0093, -0.0117, -0.0054],\n",
      "        [-0.0086,  0.0148,  0.0016,  ...,  0.0006,  0.0029,  0.0016]],\n",
      "       requires_grad=True), Parameter containing:\n",
      "tensor([1., 1., 1.,  ..., 1., 1., 1.], requires_grad=True), Parameter containing:\n",
      "tensor([[ 0.0053, -0.0092,  0.0151,  ..., -0.0031, -0.0069, -0.0076],\n",
      "        [-0.0035, -0.0115,  0.0007,  ...,  0.0042,  0.0013, -0.0061],\n",
      "        [ 0.0151,  0.0087,  0.0113,  ..., -0.0111, -0.0031,  0.0017],\n",
      "        ...,\n",
      "        [-0.0156, -0.0072, -0.0113,  ..., -0.0056, -0.0051, -0.0128],\n",
      "        [ 0.0003,  0.0010, -0.0057,  ..., -0.0090, -0.0103,  0.0153],\n",
      "        [-0.0147,  0.0073, -0.0085,  ...,  0.0036, -0.0122, -0.0074]],\n",
      "       requires_grad=True), Parameter containing:\n",
      "tensor([1., 1., 1.,  ..., 1., 1., 1.], requires_grad=True), Parameter containing:\n",
      "tensor([[ 0.0129,  0.0117,  0.0144,  ..., -0.0134,  0.0033,  0.0101],\n",
      "        [ 0.0118, -0.0144,  0.0151,  ..., -0.0128, -0.0113, -0.0016],\n",
      "        [-0.0064, -0.0098,  0.0084,  ..., -0.0006, -0.0014, -0.0099],\n",
      "        ...,\n",
      "        [-0.0092, -0.0122, -0.0132,  ..., -0.0029,  0.0072,  0.0094],\n",
      "        [ 0.0042,  0.0077,  0.0050,  ...,  0.0015, -0.0039, -0.0041],\n",
      "        [-0.0153,  0.0057, -0.0056,  ...,  0.0061, -0.0065,  0.0067]],\n",
      "       requires_grad=True), Parameter containing:\n",
      "tensor([1., 1., 1.,  ..., 1., 1., 1.], requires_grad=True), Parameter containing:\n",
      "tensor([[ 0.0056, -0.0111,  0.0072,  ...,  0.0118,  0.0037, -0.0052],\n",
      "        [ 0.0130, -0.0076, -0.0032,  ...,  0.0127, -0.0008, -0.0085],\n",
      "        [-0.0043,  0.0088, -0.0076,  ..., -0.0044, -0.0102,  0.0153],\n",
      "        ...,\n",
      "        [-0.0043, -0.0149, -0.0059,  ...,  0.0040,  0.0035, -0.0006],\n",
      "        [ 0.0083, -0.0043,  0.0070,  ...,  0.0002,  0.0155,  0.0005],\n",
      "        [ 0.0049,  0.0061, -0.0014,  ..., -0.0150,  0.0084,  0.0017]],\n",
      "       requires_grad=True)], 'weight_decay': 0.01, 'lr': 1.200000000000002e-05, 'betas': (0.95, 0.999), 'eps': 1e-08, 'amsgrad': False, 'foreach': None, 'maximize': False, 'capturable': False, 'initial_lr': 1.1999999999999999e-05, 'max_lr': 0.0003, 'min_lr': 1.1999999999999998e-08, 'max_momentum': 0.95, 'base_momentum': 0.85}\n"
     ]
    }
   ],
   "source": [
    "print(opt_grouped_parameters[0])"
   ]
  },
  {
   "cell_type": "markdown",
   "metadata": {},
   "source": [
    "\n",
    "\n",
    "# Huggingface Accelerate\n"
   ]
  },
  {
   "cell_type": "code",
   "execution_count": 13,
   "metadata": {},
   "outputs": [],
   "source": [
    "cycle, optimizer, train_imgs_dataloader, val_imgs_dataloader, test_imgs_dataloader, lr_scheduler = accelerator.prepare(\n",
    "    cycle, optimizer, train_imgs_dataloader, val_imgs_dataloader, test_imgs_dataloader, lr_scheduler\n",
    ")"
   ]
  },
  {
   "cell_type": "markdown",
   "metadata": {},
   "source": [
    "\n",
    "# Main\n"
   ]
  },
  {
   "cell_type": "code",
   "execution_count": null,
   "metadata": {},
   "outputs": [
    {
     "name": "stdout",
     "output_type": "stream",
     "text": [
      "testing starting with epoch 0 / 120\n"
     ]
    },
    {
     "name": "stderr",
     "output_type": "stream",
     "text": [
      "\r",
      "  0%|                                                                                                                                                                                                                                                                                                                                                                                                                                                                                                                                                                                                                                                                                                                                                                                                                                                                                                                                                                                                                                                                                                                                                                                                                   | 0/120 [00:00<?, ?it/s]"
     ]
    },
    {
     "name": "stdout",
     "output_type": "stream",
     "text": [
      "saving /scratch/gpfs/dw26/fMRI-Algonauts-Challenge-2023/train_logs/testing/last.pth\n"
     ]
    },
    {
     "name": "stderr",
     "output_type": "stream",
     "text": [
      "  1%|████████▉                                                                                                                                                                                                                                                                                                                                                                                                                                                                                                                                                                                                                                                                                                                                                                                                                                                                                                                                                                                                                                                                                                       | 1/120 [01:24<2:46:46, 84.09s/it, train/loss=2.09, train/lr=0.000158, train/num_steps=70, val/loss=0.915, val/num_steps=8]"
     ]
    },
    {
     "name": "stdout",
     "output_type": "stream",
     "text": [
      "saving /scratch/gpfs/dw26/fMRI-Algonauts-Challenge-2023/train_logs/testing/last.pth\n"
     ]
    },
    {
     "name": "stderr",
     "output_type": "stream",
     "text": [
      "  2%|█████████████████▊                                                                                                                                                                                                                                                                                                                                                                                                                                                                                                                                                                                                                                                                                                                                                                                                                                                                                                                                                                                                                                                                                              | 2/120 [02:45<2:42:13, 82.49s/it, train/loss=0.966, train/lr=0.0003, train/num_steps=140, val/loss=0.25, val/num_steps=16]"
     ]
    },
    {
     "name": "stdout",
     "output_type": "stream",
     "text": [
      "saving /scratch/gpfs/dw26/fMRI-Algonauts-Challenge-2023/train_logs/testing/last.pth\n"
     ]
    },
    {
     "name": "stderr",
     "output_type": "stream",
     "text": [
      "  2%|██████████████████████████▊                                                                                                                                                                                                                                                                                                                                                                                                                                                                                                                                                                                                                                                                                                                                                                                                                                                                                                                                                                                                                                                                                    | 3/120 [04:06<2:39:51, 81.97s/it, train/loss=0.615, train/lr=0.0003, train/num_steps=210, val/loss=0.167, val/num_steps=24]"
     ]
    },
    {
     "name": "stdout",
     "output_type": "stream",
     "text": [
      "saving /scratch/gpfs/dw26/fMRI-Algonauts-Challenge-2023/train_logs/testing/last.pth\n"
     ]
    },
    {
     "name": "stderr",
     "output_type": "stream",
     "text": [
      "  3%|███████████████████████████████████▋                                                                                                                                                                                                                                                                                                                                                                                                                                                                                                                                                                                                                                                                                                                                                                                                                                                                                                                                                                                                                                                                           | 4/120 [05:28<2:38:10, 81.81s/it, train/loss=0.501, train/lr=0.0003, train/num_steps=280, val/loss=0.145, val/num_steps=32]"
     ]
    },
    {
     "name": "stdout",
     "output_type": "stream",
     "text": [
      "saving /scratch/gpfs/dw26/fMRI-Algonauts-Challenge-2023/train_logs/testing/last.pth\n"
     ]
    },
    {
     "name": "stderr",
     "output_type": "stream",
     "text": [
      "  4%|████████████████████████████████████████████▋                                                                                                                                                                                                                                                                                                                                                                                                                                                                                                                                                                                                                                                                                                                                                                                                                                                                                                                                                                                                                                                                  | 5/120 [06:50<2:36:43, 81.77s/it, train/loss=0.42, train/lr=0.000299, train/num_steps=350, val/loss=0.13, val/num_steps=40]"
     ]
    },
    {
     "name": "stdout",
     "output_type": "stream",
     "text": [
      "saving /scratch/gpfs/dw26/fMRI-Algonauts-Challenge-2023/train_logs/testing/last.pth\n"
     ]
    },
    {
     "name": "stderr",
     "output_type": "stream",
     "text": [
      "  5%|█████████████████████████████████████████████████████▍                                                                                                                                                                                                                                                                                                                                                                                                                                                                                                                                                                                                                                                                                                                                                                                                                                                                                                                                                                                                                                                       | 6/120 [08:11<2:35:18, 81.74s/it, train/loss=0.358, train/lr=0.000299, train/num_steps=420, val/loss=0.114, val/num_steps=48]"
     ]
    },
    {
     "name": "stdout",
     "output_type": "stream",
     "text": [
      "saving /scratch/gpfs/dw26/fMRI-Algonauts-Challenge-2023/train_logs/testing/last.pth\n"
     ]
    },
    {
     "name": "stderr",
     "output_type": "stream",
     "text": [
      "  6%|██████████████████████████████████████████████████████████████▎                                                                                                                                                                                                                                                                                                                                                                                                                                                                                                                                                                                                                                                                                                                                                                                                                                                                                                                                                                                                                                              | 7/120 [09:33<2:34:06, 81.83s/it, train/loss=0.304, train/lr=0.000299, train/num_steps=490, val/loss=0.105, val/num_steps=56]"
     ]
    },
    {
     "name": "stdout",
     "output_type": "stream",
     "text": [
      "saving /scratch/gpfs/dw26/fMRI-Algonauts-Challenge-2023/train_logs/testing/last.pth\n"
     ]
    },
    {
     "name": "stderr",
     "output_type": "stream",
     "text": [
      "  7%|███████████████████████████████████████████████████████████████████████▎                                                                                                                                                                                                                                                                                                                                                                                                                                                                                                                                                                                                                                                                                                                                                                                                                                                                                                                                                                                                                                     | 8/120 [10:55<2:32:37, 81.76s/it, train/loss=0.264, train/lr=0.000298, train/num_steps=560, val/loss=0.104, val/num_steps=64]"
     ]
    },
    {
     "name": "stdout",
     "output_type": "stream",
     "text": [
      "saving /scratch/gpfs/dw26/fMRI-Algonauts-Challenge-2023/train_logs/testing/last.pth\n"
     ]
    },
    {
     "name": "stderr",
     "output_type": "stream",
     "text": [
      "  8%|████████████████████████████████████████████████████████████████████████████████                                                                                                                                                                                                                                                                                                                                                                                                                                                                                                                                                                                                                                                                                                                                                                                                                                                                                                                                                                                                                            | 9/120 [12:16<2:31:06, 81.68s/it, train/loss=0.231, train/lr=0.000297, train/num_steps=630, val/loss=0.0951, val/num_steps=72]"
     ]
    },
    {
     "name": "stdout",
     "output_type": "stream",
     "text": [
      "saving /scratch/gpfs/dw26/fMRI-Algonauts-Challenge-2023/train_logs/testing/last.pth\n"
     ]
    },
    {
     "name": "stderr",
     "output_type": "stream",
     "text": [
      "  8%|████████████████████████████████████████████████████████████████████████████████████████▉                                                                                                                                                                                                                                                                                                                                                                                                                                                                                                                                                                                                                                                                                                                                                                                                                                                                                                                                                                                                                  | 10/120 [13:38<2:29:52, 81.75s/it, train/loss=0.205, train/lr=0.000296, train/num_steps=700, val/loss=0.0892, val/num_steps=80]"
     ]
    },
    {
     "name": "stdout",
     "output_type": "stream",
     "text": [
      "saving /scratch/gpfs/dw26/fMRI-Algonauts-Challenge-2023/train_logs/testing/last.pth\n"
     ]
    },
    {
     "name": "stderr",
     "output_type": "stream",
     "text": [
      "  9%|█████████████████████████████████████████████████████████████████████████████████████████████████▊                                                                                                                                                                                                                                                                                                                                                                                                                                                                                                                                                                                                                                                                                                                                                                                                                                                                                                                                                                                                         | 11/120 [15:00<2:28:19, 81.65s/it, train/loss=0.186, train/lr=0.000296, train/num_steps=770, val/loss=0.0948, val/num_steps=88]"
     ]
    },
    {
     "name": "stdout",
     "output_type": "stream",
     "text": [
      "saving /scratch/gpfs/dw26/fMRI-Algonauts-Challenge-2023/train_logs/testing/last.pth\n"
     ]
    },
    {
     "name": "stderr",
     "output_type": "stream",
     "text": [
      " 10%|██████████████████████████████████████████████████████████████████████████████████████████████████████████▋                                                                                                                                                                                                                                                                                                                                                                                                                                                                                                                                                                                                                                                                                                                                                                                                                                                                                                                                                                                                | 12/120 [16:22<2:27:04, 81.70s/it, train/loss=0.169, train/lr=0.000295, train/num_steps=840, val/loss=0.0808, val/num_steps=96]"
     ]
    },
    {
     "name": "stdout",
     "output_type": "stream",
     "text": [
      "saving /scratch/gpfs/dw26/fMRI-Algonauts-Challenge-2023/train_logs/testing/last.pth\n"
     ]
    },
    {
     "name": "stderr",
     "output_type": "stream",
     "text": [
      " 11%|███████████████████████████████████████████████████████████████████████████████████████████████████████████████████▍                                                                                                                                                                                                                                                                                                                                                                                                                                                                                                                                                                                                                                                                                                                                                                                                                                                                                                                                                                                      | 13/120 [17:43<2:25:45, 81.74s/it, train/loss=0.156, train/lr=0.000293, train/num_steps=910, val/loss=0.0761, val/num_steps=104]"
     ]
    },
    {
     "name": "stdout",
     "output_type": "stream",
     "text": [
      "saving /scratch/gpfs/dw26/fMRI-Algonauts-Challenge-2023/train_logs/testing/last.pth\n"
     ]
    },
    {
     "name": "stderr",
     "output_type": "stream",
     "text": [
      " 12%|████████████████████████████████████████████████████████████████████████████████████████████████████████████████████████████▎                                                                                                                                                                                                                                                                                                                                                                                                                                                                                                                                                                                                                                                                                                                                                                                                                                                                                                                                                                             | 14/120 [19:05<2:24:23, 81.74s/it, train/loss=0.145, train/lr=0.000292, train/num_steps=980, val/loss=0.0751, val/num_steps=112]"
     ]
    },
    {
     "name": "stdout",
     "output_type": "stream",
     "text": [
      "saving /scratch/gpfs/dw26/fMRI-Algonauts-Challenge-2023/train_logs/testing/last.pth\n"
     ]
    },
    {
     "name": "stderr",
     "output_type": "stream",
     "text": [
      " 12%|█████████████████████████████████████████████████████████████████████████████████████████████████████████████████████████████████████▏                                                                                                                                                                                                                                                                                                                                                                                                                                                                                                                                                                                                                                                                                                                                                                                                                                                                                                                                                                   | 15/120 [20:27<2:23:05, 81.76s/it, train/loss=0.136, train/lr=0.000291, train/num_steps=1050, val/loss=0.0701, val/num_steps=120]"
     ]
    },
    {
     "name": "stdout",
     "output_type": "stream",
     "text": [
      "saving /scratch/gpfs/dw26/fMRI-Algonauts-Challenge-2023/train_logs/testing/last.pth\n"
     ]
    },
    {
     "name": "stderr",
     "output_type": "stream",
     "text": [
      " 13%|██████████████████████████████████████████████████████████████████████████████████████████████████████████████████████████████████████████████                                                                                                                                                                                                                                                                                                                                                                                                                                                                                                                                                                                                                                                                                                                                                                                                                                                                                                                                                           | 16/120 [21:49<2:21:48, 81.81s/it, train/loss=0.128, train/lr=0.000289, train/num_steps=1120, val/loss=0.0668, val/num_steps=128]"
     ]
    },
    {
     "name": "stdout",
     "output_type": "stream",
     "text": [
      "saving /scratch/gpfs/dw26/fMRI-Algonauts-Challenge-2023/train_logs/testing/last.pth\n"
     ]
    },
    {
     "name": "stderr",
     "output_type": "stream",
     "text": [
      " 14%|██████████████████████████████████████████████████████████████████████████████████████████████████████████████████████████████████████████████████████▉                                                                                                                                                                                                                                                                                                                                                                                                                                                                                                                                                                                                                                                                                                                                                                                                                                                                                                                                                  | 17/120 [23:11<2:20:29, 81.84s/it, train/loss=0.121, train/lr=0.000288, train/num_steps=1190, val/loss=0.0641, val/num_steps=136]"
     ]
    },
    {
     "name": "stdout",
     "output_type": "stream",
     "text": [
      "saving /scratch/gpfs/dw26/fMRI-Algonauts-Challenge-2023/train_logs/testing/last.pth\n"
     ]
    },
    {
     "name": "stderr",
     "output_type": "stream",
     "text": [
      " 15%|███████████████████████████████████████████████████████████████████████████████████████████████████████████████████████████████████████████████████████████████▊                                                                                                                                                                                                                                                                                                                                                                                                                                                                                                                                                                                                                                                                                                                                                                                                                                                                                                                                         | 18/120 [24:33<2:19:10, 81.86s/it, train/loss=0.114, train/lr=0.000286, train/num_steps=1260, val/loss=0.0622, val/num_steps=144]"
     ]
    },
    {
     "name": "stdout",
     "output_type": "stream",
     "text": [
      "saving /scratch/gpfs/dw26/fMRI-Algonauts-Challenge-2023/train_logs/testing/last.pth\n"
     ]
    },
    {
     "name": "stderr",
     "output_type": "stream",
     "text": [
      " 16%|████████████████████████████████████████████████████████████████████████████████████████████████████████████████████████████████████████████████████████████████████████▋                                                                                                                                                                                                                                                                                                                                                                                                                                                                                                                                                                                                                                                                                                                                                                                                                                                                                                                                | 19/120 [25:54<2:17:39, 81.78s/it, train/loss=0.108, train/lr=0.000284, train/num_steps=1330, val/loss=0.0606, val/num_steps=152]"
     ]
    },
    {
     "name": "stdout",
     "output_type": "stream",
     "text": [
      "saving /scratch/gpfs/dw26/fMRI-Algonauts-Challenge-2023/train_logs/testing/last.pth\n"
     ]
    },
    {
     "name": "stderr",
     "output_type": "stream",
     "text": [
      " 17%|█████████████████████████████████████████████████████████████████████████████████████████████████████████████████████████████████████████████████████████████████████████████████▌                                                                                                                                                                                                                                                                                                                                                                                                                                                                                                                                                                                                                                                                                                                                                                                                                                                                                                                       | 20/120 [27:16<2:16:23, 81.84s/it, train/loss=0.103, train/lr=0.000283, train/num_steps=1400, val/loss=0.0589, val/num_steps=160]"
     ]
    },
    {
     "name": "stdout",
     "output_type": "stream",
     "text": [
      "saving /scratch/gpfs/dw26/fMRI-Algonauts-Challenge-2023/train_logs/testing/last.pth\n"
     ]
    },
    {
     "name": "stderr",
     "output_type": "stream",
     "text": [
      " 18%|██████████████████████████████████████████████████████████████████████████████████████████████████████████████████████████████████████████████████████████████████████████████████████████▍                                                                                                                                                                                                                                                                                                                                                                                                                                                                                                                                                                                                                                                                                                                                                                                                                                                                                                              | 21/120 [28:38<2:15:10, 81.92s/it, train/loss=0.099, train/lr=0.000281, train/num_steps=1470, val/loss=0.0578, val/num_steps=168]"
     ]
    },
    {
     "name": "stdout",
     "output_type": "stream",
     "text": [
      "saving /scratch/gpfs/dw26/fMRI-Algonauts-Challenge-2023/train_logs/testing/last.pth\n"
     ]
    },
    {
     "name": "stderr",
     "output_type": "stream",
     "text": [
      " 18%|███████████████████████████████████████████████████████████████████████████████████████████████████████████████████████████████████████████████████████████████████████████████████████████████████                                                                                                                                                                                                                                                                                                                                                                                                                                                                                                                                                                                                                                                                                                                                                                                                                                                                                                     | 22/120 [30:00<2:13:43, 81.87s/it, train/loss=0.0952, train/lr=0.000279, train/num_steps=1540, val/loss=0.0582, val/num_steps=176]"
     ]
    },
    {
     "name": "stdout",
     "output_type": "stream",
     "text": [
      "saving /scratch/gpfs/dw26/fMRI-Algonauts-Challenge-2023/train_logs/testing/last.pth\n"
     ]
    },
    {
     "name": "stderr",
     "output_type": "stream",
     "text": [
      " 19%|████████████████████████████████████████████████████████████████████████████████████████████████████████████████████████████████████████████████████████████████████████████████████████████████████████████▏                                                                                                                                                                                                                                                                                                                                                                                                                                                                                                                                                                                                                                                                                                                                                                                                                                                                                            | 23/120 [31:22<2:12:27, 81.93s/it, train/loss=0.092, train/lr=0.000276, train/num_steps=1610, val/loss=0.0559, val/num_steps=184]"
     ]
    },
    {
     "name": "stdout",
     "output_type": "stream",
     "text": [
      "saving /scratch/gpfs/dw26/fMRI-Algonauts-Challenge-2023/train_logs/testing/last.pth\n"
     ]
    },
    {
     "name": "stderr",
     "output_type": "stream",
     "text": [
      " 20%|████████████████████████████████████████████████████████████████████████████████████████████████████████████████████████████████████████████████████████████████████████████████████████████████████████████████████▊                                                                                                                                                                                                                                                                                                                                                                                                                                                                                                                                                                                                                                                                                                                                                                                                                                                                                   | 24/120 [32:44<2:11:13, 82.01s/it, train/loss=0.0892, train/lr=0.000274, train/num_steps=1680, val/loss=0.0545, val/num_steps=192]"
     ]
    },
    {
     "name": "stdout",
     "output_type": "stream",
     "text": [
      "saving /scratch/gpfs/dw26/fMRI-Algonauts-Challenge-2023/train_logs/testing/last.pth\n"
     ]
    },
    {
     "name": "stderr",
     "output_type": "stream",
     "text": [
      " 21%|█████████████████████████████████████████████████████████████████████████████████████████████████████████████████████████████████████████████████████████████████████████████████████████████████████████████████████████████▋                                                                                                                                                                                                                                                                                                                                                                                                                                                                                                                                                                                                                                                                                                                                                                                                                                                                          | 25/120 [34:06<2:09:41, 81.91s/it, train/loss=0.0866, train/lr=0.000272, train/num_steps=1750, val/loss=0.0552, val/num_steps=200]"
     ]
    },
    {
     "name": "stdout",
     "output_type": "stream",
     "text": [
      "saving /scratch/gpfs/dw26/fMRI-Algonauts-Challenge-2023/train_logs/testing/last.pth\n"
     ]
    },
    {
     "name": "stderr",
     "output_type": "stream",
     "text": [
      " 22%|██████████████████████████████████████████████████████████████████████████████████████████████████████████████████████████████████████████████████████████████████████████████████████████████████████████████████████████████████████▊                                                                                                                                                                                                                                                                                                                                                                                                                                                                                                                                                                                                                                                                                                                                                                                                                                                                  | 26/120 [35:28<2:08:21, 81.94s/it, train/loss=0.0845, train/lr=0.00027, train/num_steps=1820, val/loss=0.0517, val/num_steps=208]"
     ]
    },
    {
     "name": "stdout",
     "output_type": "stream",
     "text": [
      "saving /scratch/gpfs/dw26/fMRI-Algonauts-Challenge-2023/train_logs/testing/last.pth\n"
     ]
    },
    {
     "name": "stderr",
     "output_type": "stream",
     "text": [
      " 22%|███████████████████████████████████████████████████████████████████████████████████████████████████████████████████████████████████████████████████████████████████████████████████████████████████████████████████████████████████████████████▍                                                                                                                                                                                                                                                                                                                                                                                                                                                                                                                                                                                                                                                                                                                                                                                                                                                        | 27/120 [36:50<2:06:57, 81.91s/it, train/loss=0.0824, train/lr=0.000267, train/num_steps=1890, val/loss=0.0521, val/num_steps=216]"
     ]
    },
    {
     "name": "stdout",
     "output_type": "stream",
     "text": [
      "saving /scratch/gpfs/dw26/fMRI-Algonauts-Challenge-2023/train_logs/testing/last.pth\n"
     ]
    },
    {
     "name": "stderr",
     "output_type": "stream",
     "text": [
      " 23%|████████████████████████████████████████████████████████████████████████████████████████████████████████████████████████████████████████████████████████████████████████████████████████████████████████████████████████████████████████████████████████▎                                                                                                                                                                                                                                                                                                                                                                                                                                                                                                                                                                                                                                                                                                                                                                                                                                               | 28/120 [38:11<2:05:26, 81.81s/it, train/loss=0.0801, train/lr=0.000264, train/num_steps=1960, val/loss=0.0517, val/num_steps=224]"
     ]
    },
    {
     "name": "stdout",
     "output_type": "stream",
     "text": [
      "saving /scratch/gpfs/dw26/fMRI-Algonauts-Challenge-2023/train_logs/testing/last.pth\n"
     ]
    },
    {
     "name": "stderr",
     "output_type": "stream",
     "text": [
      " 24%|█████████████████████████████████████████████████████████████████████████████████████████████████████████████████████████████████████████████████████████████████████████████████████████████████████████████████████████████████████████████████████████████████▍                                                                                                                                                                                                                                                                                                                                                                                                                                                                                                                                                                                                                                                                                                                                                                                                                                       | 29/120 [39:34<2:04:11, 81.89s/it, train/loss=0.078, train/lr=0.000262, train/num_steps=2030, val/loss=0.0486, val/num_steps=232]"
     ]
    },
    {
     "name": "stdout",
     "output_type": "stream",
     "text": [
      "saving /scratch/gpfs/dw26/fMRI-Algonauts-Challenge-2023/train_logs/testing/last.pth\n"
     ]
    },
    {
     "name": "stderr",
     "output_type": "stream",
     "text": [
      " 25%|██████████████████████████████████████████████████████████████████████████████████████████████████████████████████████████████████████████████████████████████████████████████████████████████████████████████████████████████████████████████████████████████████████████                                                                                                                                                                                                                                                                                                                                                                                                                                                                                                                                                                                                                                                                                                                                                                                                                              | 30/120 [40:56<2:03:01, 82.01s/it, train/loss=0.0759, train/lr=0.000259, train/num_steps=2100, val/loss=0.0483, val/num_steps=240]"
     ]
    },
    {
     "name": "stdout",
     "output_type": "stream",
     "text": [
      "saving /scratch/gpfs/dw26/fMRI-Algonauts-Challenge-2023/train_logs/testing/last.pth\n"
     ]
    },
    {
     "name": "stderr",
     "output_type": "stream",
     "text": [
      " 26%|██████████████████████████████████████████████████████████████████████████████████████████████████████████████████████████████████████████████████████████████████████████████████████████████████████████████████████████████████████████████████████████████████████████████████▊                                                                                                                                                                                                                                                                                                                                                                                                                                                                                                                                                                                                                                                                                                                                                                                                                     | 31/120 [42:17<2:01:22, 81.83s/it, train/loss=0.0745, train/lr=0.000256, train/num_steps=2170, val/loss=0.0479, val/num_steps=248]"
     ]
    },
    {
     "name": "stdout",
     "output_type": "stream",
     "text": [
      "saving /scratch/gpfs/dw26/fMRI-Algonauts-Challenge-2023/train_logs/testing/last.pth\n"
     ]
    },
    {
     "name": "stderr",
     "output_type": "stream",
     "text": [
      " 27%|████████████████████████████████████████████████████████████████████████████████████████████████████████████████████████████████████████████████████████████████████████████████████████████████████████████████████████████████████████████████████████████████████████████████████████████                                                                                                                                                                                                                                                                                                                                                                                                                                                                                                                                                                                                                                                                                                                                                                                                             | 32/120 [43:39<2:00:02, 81.84s/it, train/loss=0.073, train/lr=0.000253, train/num_steps=2240, val/loss=0.0472, val/num_steps=256]"
     ]
    },
    {
     "name": "stdout",
     "output_type": "stream",
     "text": [
      "saving /scratch/gpfs/dw26/fMRI-Algonauts-Challenge-2023/train_logs/testing/last.pth\n"
     ]
    },
    {
     "name": "stderr",
     "output_type": "stream",
     "text": [
      " 28%|████████████████████████████████████████████████████████████████████████████████████████████████████████████████████████████████████████████████████████████████████████████████████████████████████████████████████████████████████████████████████████████████████████████████████████████████████▉                                                                                                                                                                                                                                                                                                                                                                                                                                                                                                                                                                                                                                                                                                                                                                                                    | 33/120 [45:01<1:58:31, 81.74s/it, train/loss=0.0718, train/lr=0.00025, train/num_steps=2310, val/loss=0.0464, val/num_steps=264]"
     ]
    },
    {
     "name": "stdout",
     "output_type": "stream",
     "text": [
      "saving /scratch/gpfs/dw26/fMRI-Algonauts-Challenge-2023/train_logs/testing/last.pth\n"
     ]
    },
    {
     "name": "stderr",
     "output_type": "stream",
     "text": [
      " 28%|█████████████████████████████████████████████████████████████████████████████████████████████████████████████████████████████████████████████████████████████████████████████████████████████████████████████████████████████████████████████████████████████████████████████████████████████████████████████▍                                                                                                                                                                                                                                                                                                                                                                                                                                                                                                                                                                                                                                                                                                                                                                                          | 34/120 [46:23<1:57:19, 81.85s/it, train/loss=0.0708, train/lr=0.000247, train/num_steps=2380, val/loss=0.0465, val/num_steps=272]"
     ]
    },
    {
     "name": "stdout",
     "output_type": "stream",
     "text": [
      "saving /scratch/gpfs/dw26/fMRI-Algonauts-Challenge-2023/train_logs/testing/last.pth\n"
     ]
    },
    {
     "name": "stderr",
     "output_type": "stream",
     "text": [
      " 29%|██████████████████████████████████████████████████████████████████████████████████████████████████████████████████████████████████████████████████████████████████████████████████████████████████████████████████████████████████████████████████████████████████████████████████████████████████████████████████████▎                                                                                                                                                                                                                                                                                                                                                                                                                                                                                                                                                                                                                                                                                                                                                                                 | 35/120 [47:45<1:56:01, 81.90s/it, train/loss=0.0697, train/lr=0.000244, train/num_steps=2450, val/loss=0.0474, val/num_steps=280]"
     ]
    },
    {
     "name": "stdout",
     "output_type": "stream",
     "text": [
      "saving /scratch/gpfs/dw26/fMRI-Algonauts-Challenge-2023/train_logs/testing/last.pth\n"
     ]
    },
    {
     "name": "stderr",
     "output_type": "stream",
     "text": [
      " 30%|███████████████████████████████████████████████████████████████████████████████████████████████████████████████████████████████████████████████████████████████████████████████████████████████████████████████████████████████████████████████████████████████████████████████████████████████████████████████████████████████▌                                                                                                                                                                                                                                                                                                                                                                                                                                                                                                                                                                                                                                                                                                                                                                         | 36/120 [49:07<1:54:53, 82.07s/it, train/loss=0.069, train/lr=0.000241, train/num_steps=2520, val/loss=0.0448, val/num_steps=288]"
     ]
    },
    {
     "name": "stdout",
     "output_type": "stream",
     "text": [
      "saving /scratch/gpfs/dw26/fMRI-Algonauts-Challenge-2023/train_logs/testing/last.pth\n"
     ]
    },
    {
     "name": "stderr",
     "output_type": "stream",
     "text": [
      " 31%|████████████████████████████████████████████████████████████████████████████████████████████████████████████████████████████████████████████████████████████████████████████████████████████████████████████████████████████████████████████████████████████████████████████████████████████████████████████████████████████████████████                                                                                                                                                                                                                                                                                                                                                                                                                                                                                                                                                                                                                                                                                                                                                                | 37/120 [50:29<1:53:29, 82.05s/it, train/loss=0.0682, train/lr=0.000238, train/num_steps=2590, val/loss=0.0443, val/num_steps=296]"
     ]
    },
    {
     "name": "stdout",
     "output_type": "stream",
     "text": [
      "saving /scratch/gpfs/dw26/fMRI-Algonauts-Challenge-2023/train_logs/testing/last.pth\n"
     ]
    },
    {
     "name": "stderr",
     "output_type": "stream",
     "text": [
      " 32%|████████████████████████████████████████████████████████████████████████████████████████████████████████████████████████████████████████████████████████████████████████████████████████████████████████████████████████████████████████████████████████████████████████████████████████████████████████████████████████████████████████████████▉                                                                                                                                                                                                                                                                                                                                                                                                                                                                                                                                                                                                                                                                                                                                                       | 38/120 [51:51<1:52:03, 81.99s/it, train/loss=0.0671, train/lr=0.000234, train/num_steps=2660, val/loss=0.0463, val/num_steps=304]"
     ]
    },
    {
     "name": "stdout",
     "output_type": "stream",
     "text": [
      "saving /scratch/gpfs/dw26/fMRI-Algonauts-Challenge-2023/train_logs/testing/last.pth\n"
     ]
    },
    {
     "name": "stderr",
     "output_type": "stream",
     "text": [
      " 32%|█████████████████████████████████████████████████████████████████████████████████████████████████████████████████████████████████████████████████████████████████████████████████████████████████████████████████████████████████████████████████████████████████████████████████████████████████████████████████████████████████████████████████████████▊                                                                                                                                                                                                                                                                                                                                                                                                                                                                                                                                                                                                                                                                                                                                              | 39/120 [53:13<1:50:42, 82.01s/it, train/loss=0.0663, train/lr=0.000231, train/num_steps=2730, val/loss=0.0463, val/num_steps=312]"
     ]
    },
    {
     "name": "stdout",
     "output_type": "stream",
     "text": [
      "saving /scratch/gpfs/dw26/fMRI-Algonauts-Challenge-2023/train_logs/testing/last.pth\n"
     ]
    },
    {
     "name": "stderr",
     "output_type": "stream",
     "text": [
      " 33%|██████████████████████████████████████████████████████████████████████████████████████████████████████████████████████████████████████████████████████████████████████████████████████████████████████████████████████████████████████████████████████████████████████████████████████████████████████████████████████████████████████████████████████████████████▋                                                                                                                                                                                                                                                                                                                                                                                                                                                                                                                                                                                                                                                                                                                                     | 40/120 [54:35<1:49:28, 82.11s/it, train/loss=0.0653, train/lr=0.000228, train/num_steps=2800, val/loss=0.0436, val/num_steps=320]"
     ]
    },
    {
     "name": "stdout",
     "output_type": "stream",
     "text": [
      "saving /scratch/gpfs/dw26/fMRI-Algonauts-Challenge-2023/train_logs/testing/last.pth\n"
     ]
    },
    {
     "name": "stderr",
     "output_type": "stream",
     "text": [
      " 34%|███████████████████████████████████████████████████████████████████████████████████████████████████████████████████████████████████████████████████████████████████████████████████████████████████████████████████████████████████████████████████████████████████████████████████████████████████████████████████████████████████████████████████████████████████████████▌                                                                                                                                                                                                                                                                                                                                                                                                                                                                                                                                                                                                                                                                                                                            | 41/120 [55:57<1:47:58, 82.01s/it, train/loss=0.0641, train/lr=0.000224, train/num_steps=2870, val/loss=0.0424, val/num_steps=328]"
     ]
    },
    {
     "name": "stdout",
     "output_type": "stream",
     "text": [
      "saving /scratch/gpfs/dw26/fMRI-Algonauts-Challenge-2023/train_logs/testing/last.pth\n"
     ]
    },
    {
     "name": "stderr",
     "output_type": "stream",
     "text": [
      " 35%|████████████████████████████████████████████████████████████████████████████████████████████████████████████████████████████████████████████████████████████████████████████████████████████████████████████████████████████████████████████████████████████████████████████████████████████████████████████████████████████████████████████████████████████████████████████████████▊                                                                                                                                                                                                                                                                                                                                                                                                                                                                                                                                                                                                                                                                                                                    | 42/120 [57:19<1:46:33, 81.96s/it, train/loss=0.063, train/lr=0.000221, train/num_steps=2940, val/loss=0.0417, val/num_steps=336]"
     ]
    },
    {
     "name": "stdout",
     "output_type": "stream",
     "text": [
      "saving /scratch/gpfs/dw26/fMRI-Algonauts-Challenge-2023/train_logs/testing/last.pth\n"
     ]
    },
    {
     "name": "stderr",
     "output_type": "stream",
     "text": [
      " 36%|█████████████████████████████████████████████████████████████████████████████████████████████████████████████████████████████████████████████████████████████████████████████████████████████████████████████████████████████████████████████████████████████████████████████████████████████████████████████████████████████████████████████████████████████████████████████████████████████▎                                                                                                                                                                                                                                                                                                                                                                                                                                                                                                                                                                                                                                                                                                          | 43/120 [58:41<1:45:20, 82.08s/it, train/loss=0.0621, train/lr=0.000217, train/num_steps=3010, val/loss=0.0411, val/num_steps=344]"
     ]
    },
    {
     "name": "stdout",
     "output_type": "stream",
     "text": [
      "saving /scratch/gpfs/dw26/fMRI-Algonauts-Challenge-2023/train_logs/testing/last.pth\n"
     ]
    },
    {
     "name": "stderr",
     "output_type": "stream",
     "text": [
      " 37%|█████████████████████████████████████████████████████████████████████████████████████████████████████████████████████████████████████████████████████████████████████████████████████████████████████████████████████████████████████████████████████████████████████████████████████████████████████████████████████████████████████████████████████████████████████████████████████████████████████▍                                                                                                                                                                                                                                                                                                                                                                                                                                                                                                                                                                                                                                                                                                | 44/120 [1:00:03<1:43:55, 82.05s/it, train/loss=0.0614, train/lr=0.000213, train/num_steps=3080, val/loss=0.0407, val/num_steps=352]"
     ]
    },
    {
     "name": "stdout",
     "output_type": "stream",
     "text": [
      "saving /scratch/gpfs/dw26/fMRI-Algonauts-Challenge-2023/train_logs/testing/last.pth\n"
     ]
    },
    {
     "name": "stderr",
     "output_type": "stream",
     "text": [
      " 38%|██████████████████████████████████████████████████████████████████████████████████████████████████████████████████████████████████████████████████████████████████████████████████████████████████████████████████████████████████████████████████████████████████████████████████████████████████████████████████████████████████████████████████████████████████████████████████████████████████████████████▋                                                                                                                                                                                                                                                                                                                                                                                                                                                                                                                                                                                                                                                                                        | 45/120 [1:01:25<1:42:27, 81.97s/it, train/loss=0.0607, train/lr=0.00021, train/num_steps=3150, val/loss=0.0405, val/num_steps=360]"
     ]
    }
   ],
   "source": [
    "epoch = 0\n",
    "losses, val_losses, lrs = [], [], []\n",
    "best_val_loss = 1e9\n",
    "\n",
    "mse = nn.MSELoss()\n",
    "\n",
    "# Optionally resume from checkpoint #\n",
    "if resume_from_ckpt:\n",
    "    print(\"\\n---resuming from last.pth ckpt---\\n\")\n",
    "    checkpoint = torch.load(outdir+'/last.pth')\n",
    "    epoch = checkpoint['epoch']\n",
    "    optimizer.load_state_dict(checkpoint['optimizer_state_dict'])\n",
    "    lr_scheduler.load_state_dict(checkpoint['lr_scheduler'])\n",
    "    cycle.load_state_dict(checkpoint['model_state_dict'])\n",
    "    losses = checkpoint['train_losses']\n",
    "    val_losses = checkpoint['val_losses']\n",
    "    \n",
    "print(f\"{model_name} starting with epoch {epoch} / {num_epochs}\")\n",
    "progress_bar = tqdm(range(epoch,num_epochs), ncols=1200, disable=(local_rank!=0))\n",
    "for epoch in progress_bar:\n",
    "    cycle.train()\n",
    "\n",
    "    for train_i, image in enumerate(train_imgs_dataloader):\n",
    "        optimizer.zero_grad()\n",
    "        \n",
    "#         repeat_index = train_i % 3\n",
    "\n",
    "        image = image.float()\n",
    "        clip_target = clip_extractor.embed_image(image).float()\n",
    "        clip_cycle = cycle(clip_target) \n",
    "\n",
    "        loss = mse(clip_target, clip_cycle)\n",
    "        losses.append(loss.item())\n",
    "        lrs.append(optimizer.param_groups[0]['lr'])\n",
    "\n",
    "        accelerator.backward(loss)\n",
    "        optimizer.step()\n",
    "\n",
    "        if lr_scheduler is not None:\n",
    "            lr_scheduler.step()\n",
    "\n",
    "    cycle.eval()\n",
    "    if local_rank==0: # i think its possible to remove this if statement though with some revisions\n",
    "        for val_i, image in enumerate(val_imgs_dataloader): \n",
    "            with torch.no_grad():\n",
    "                # repeat_index = val_i % 3\n",
    "\n",
    "                image = image.float()\n",
    "\n",
    "                clip_target = clip_extractor.embed_image(image).float()\n",
    "                clip_cycle = cycle(clip_target) \n",
    "                val_loss =  mse(clip_target, clip_cycle)\n",
    "                utils.check_loss(val_loss)\n",
    "                val_losses.append(val_loss.item())\n",
    "\n",
    "        if (not save_at_end and not no_ckpt_saving) or (save_at_end and epoch == num_epochs - 1):\n",
    "            # save best model\n",
    "            val_loss = np.mean(val_losses[-(val_i+1):])\n",
    "            if val_loss < best_val_loss:\n",
    "                best_val_loss = val_loss\n",
    "                save_ckpt('best')\n",
    "            else:\n",
    "                print(f'not best - val_loss: {val_loss:.3f}, best_val_loss: {best_val_loss:.3f}')\n",
    "        \n",
    "        # Save model checkpoint every `ckpt_interval`` epochs or on the last epoch\n",
    "        if (ckpt_interval is not None and (epoch + 1) % ckpt_interval == 0) or epoch == num_epochs - 1:\n",
    "            save_ckpt(f'last')\n",
    "\n",
    "        logs = {\"train/loss\": np.mean(losses[-(train_i+1):]),\n",
    "                \"val/loss\": np.mean(val_losses[-(val_i+1):]),\n",
    "                \"train/lr\": lrs[-1],\n",
    "                \"train/num_steps\": len(losses),\n",
    "                \"val/num_steps\": len(val_losses)}\n",
    "        \n",
    "        progress_bar.set_postfix(**logs)\n",
    "            \n",
    "    if distributed:\n",
    "        dist.barrier()\n",
    "\n",
    "print(\"\\n===Finished!===\\n\")\n"
   ]
  },
  {
   "cell_type": "code",
   "execution_count": null,
   "metadata": {},
   "outputs": [],
   "source": [
    "print(len(losses))\n",
    "print(len(val_losses))\n",
    "plt.plot(losses)"
   ]
  },
  {
   "cell_type": "code",
   "execution_count": null,
   "metadata": {},
   "outputs": [],
   "source": [
    "plt.plot(val_losses)"
   ]
  },
  {
   "cell_type": "markdown",
   "metadata": {},
   "source": [
    "\n",
    "### Get fMRI data\n"
   ]
  },
  {
   "cell_type": "code",
   "execution_count": null,
   "metadata": {},
   "outputs": [],
   "source": [
    "\n",
    "# fmri_dir = os.path.join(args.data_dir, 'training_split', 'training_fmri')\n",
    "# lh_fmri = np.load(os.path.join(fmri_dir, 'lh_training_fmri.npy'))\n",
    "# rh_fmri = np.load(os.path.join(fmri_dir, 'rh_training_fmri.npy'))\n",
    "\n",
    "# print('LH training fMRI data shape:')\n",
    "# print(lh_fmri.shape)\n",
    "# print('(Training stimulus images × LH vertices)')\n",
    "\n",
    "# print('\\nRH training fMRI data shape:')\n",
    "# print(rh_fmri.shape)\n",
    "# print('(Training stimulus images × RH vertices)')\n",
    "\n",
    "# lh_fmri_train = lh_fmri[idxs_train]\n",
    "# lh_fmri_val = lh_fmri[idxs_val]\n",
    "# rh_fmri_train = rh_fmri[idxs_train]\n",
    "# rh_fmri_val = rh_fmri[idxs_val]\n",
    "\n",
    "# del lh_fmri, rh_fmri\n",
    "\n",
    "# del lh_fmri_train, lh_fmri_val,rh_fmri_train,rh_fmri_val\n",
    "\n"
   ]
  }
 ],
 "metadata": {
  "kernelspec": {
   "display_name": "Python 3 (ipykernel)",
   "language": "python",
   "name": "python3"
  },
  "language_info": {
   "codemirror_mode": {
    "name": "ipython",
    "version": 3
   },
   "file_extension": ".py",
   "mimetype": "text/x-python",
   "name": "python",
   "nbconvert_exporter": "python",
   "pygments_lexer": "ipython3",
   "version": "3.8.13"
  },
  "vscode": {
   "interpreter": {
    "hash": "aee8b7b246df8f9039afb4144a1f6fd8d2ca17a180786b69acc140d282b71a49"
   }
  }
 },
 "nbformat": 4,
 "nbformat_minor": 2
}
