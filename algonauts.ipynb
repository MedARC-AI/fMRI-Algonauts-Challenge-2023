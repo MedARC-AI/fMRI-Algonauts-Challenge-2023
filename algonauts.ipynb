{
 "cells": [
  {
   "cell_type": "markdown",
   "id": "22895cd8",
   "metadata": {},
   "source": [
    "# Import packages + functions"
   ]
  },
  {
   "cell_type": "code",
   "execution_count": 2,
   "id": "712b213c",
   "metadata": {
    "tags": []
   },
   "outputs": [
    {
     "name": "stdout",
     "output_type": "stream",
     "text": [
      "device: cpu\n"
     ]
    }
   ],
   "source": [
    "import os\n",
    "import sys\n",
    "import math\n",
    "import random\n",
    "import numpy as np\n",
    "from matplotlib import pyplot as plt\n",
    "import torch\n",
    "from torch import nn\n",
    "import torchvision\n",
    "from torchvision import transforms\n",
    "from torchvision.models.feature_extraction import create_feature_extractor\n",
    "from tqdm import tqdm\n",
    "import PIL\n",
    "from datetime import datetime\n",
    "import h5py\n",
    "import webdataset as wds\n",
    "from subprocess import call\n",
    "from pathlib import Path\n",
    "\n",
    "device = torch.device('cuda' if torch.cuda.is_available() else 'cpu')\n",
    "print(\"device:\",device)\n",
    "\n",
    "def seed_everything(seed=42):\n",
    "    random.seed(seed)\n",
    "    os.environ['PYTHONHASHSEED'] = str(seed)\n",
    "    np.random.seed(seed)\n",
    "    torch.manual_seed(seed)\n",
    "    torch.cuda.manual_seed(seed)\n",
    "    torch.cuda.manual_seed_all(seed)\n",
    "    torch.backends.cudnn.deterministic = True\n",
    "seed_everything()"
   ]
  },
  {
   "cell_type": "markdown",
   "id": "6dc04fa1",
   "metadata": {},
   "source": [
    "# Load NSD webdatasets for a given subject"
   ]
  },
  {
   "cell_type": "markdown",
   "id": "8ee6ef00",
   "metadata": {},
   "source": [
    "The '/fsx' directory refers to a directory housed on the Stability HPC. You will need to download NSD data from [our huggingface dataset](https://huggingface.co/datasets/pscotti/naturalscenesdataset/tree/main) and change the folders below to your own folder path. If you have demonstrated serious involvement with the project and need access to the Stability HPC contact Paul Scotti on Discord."
   ]
  },
  {
   "cell_type": "code",
   "execution_count": 3,
   "id": "9cbc9637",
   "metadata": {},
   "outputs": [],
   "source": [
    "# Preprocessing for images\n",
    "transform = transforms.Compose([\n",
    "    transforms.Resize(224),\n",
    "#     transforms.Resize(256),\n",
    "#     transforms.CenterCrop(224),\n",
    "#     transforms.ToTensor(),\n",
    "    transforms.Normalize(mean=[0.485, 0.456, 0.406], std=[0.229, 0.224, 0.225]),\n",
    "])\n",
    "\n",
    "def preprocess(sample):\n",
    "    voxel, image = sample\n",
    "    return voxel, transform(image)"
   ]
  },
  {
   "cell_type": "code",
   "execution_count": 4,
   "id": "58acbbc4",
   "metadata": {
    "tags": []
   },
   "outputs": [
    {
     "name": "stdout",
     "output_type": "stream",
     "text": [
      "num_devices 1\n",
      "num_workers 1\n",
      "batch_size 300\n",
      "global_batch_size 300\n",
      "num_worker_batches 30\n",
      "validation: num_worker_batches 1\n"
     ]
    }
   ],
   "source": [
    "subject = '01'\n",
    "\n",
    "num_devices = torch.cuda.device_count()\n",
    "if num_devices==0: # not using gpu, assuming you want to use the limited dataset\n",
    "    num_devices = 1\n",
    "    num_workers = 1\n",
    "    batch_size = 300\n",
    "    num_samples = 9000\n",
    "else: # using cuda, assuming you want to use the full dataset\n",
    "    num_workers = num_devices\n",
    "    batch_size = 300\n",
    "    num_samples = 9000 # see metadata.json\n",
    "print(\"num_devices\",num_devices)\n",
    "print(\"num_workers\",num_workers)\n",
    "print(\"batch_size\",batch_size)\n",
    "global_batch_size = batch_size * num_devices\n",
    "print(\"global_batch_size\",global_batch_size)\n",
    "num_batches = math.floor(num_samples / global_batch_size)\n",
    "num_worker_batches = math.floor(num_batches / num_workers)\n",
    "print(\"num_worker_batches\",num_worker_batches)\n",
    "# train_url = f'/fsx/proj-medarc/fmri/natural-scenes-dataset/webdataset/train/train_subj{subject}'\n",
    "train_url = f'/scratch/gpfs/KNORMAN/webdataset_nsd/webdataset_split/train/train_subj{subject}'\n",
    "train_url = train_url+\"_{0..49}.tar\"\n",
    "\n",
    "# train_data = wds.DataPipeline([wds.ResampledShards(train_url),\n",
    "#                     wds.tarfile_to_samples(),\n",
    "#                     #wds.shuffle(500,initial=500),\n",
    "#                     wds.decode(\"torch\"),\n",
    "#                     wds.rename(images=\"jpg;png\", voxels=\"nsdgeneral.npy\", trial=\"trial.npy\"),\n",
    "#                     wds.to_tuple(\"voxels\", 'images'),\n",
    "#                     wds.map(preprocess),\n",
    "#                     wds.batched(batch_size, partial=False),\n",
    "#                 ]).with_epoch(num_worker_batches)\n",
    "\n",
    "train_data = wds.WebDataset(train_url, resampled=False, nodesplitter=wds.split_by_node)\\\n",
    "    .decode(\"torch\")\\\n",
    "    .rename(images=\"jpg;png\", voxels=\"nsdgeneral.npy\", trial=\"trial.npy\")\\\n",
    "    .to_tuple(\"voxels\", 'images')\\\n",
    "    .map(preprocess)\\\n",
    "    .batched(batch_size, partial=False)\\\n",
    "    .with_epoch(num_worker_batches)\n",
    "train_dl = torch.utils.data.DataLoader(train_data, batch_size=None, num_workers=num_workers, shuffle=False)\n",
    "\n",
    "# Validation #\n",
    "# num_samples = 492\n",
    "num_samples = 300\n",
    "num_batches = math.ceil(num_samples / global_batch_size)\n",
    "num_worker_batches = math.floor(num_batches / num_workers)\n",
    "print(\"validation: num_worker_batches\",num_worker_batches)\n",
    "\n",
    "# val_url = f'/fsx/proj-medarc/fmri/natural-scenes-dataset/webdataset/val/val_subj{subject}_0.tar'\n",
    "val_url = f'/scratch/gpfs/KNORMAN/webdataset_nsd/webdataset_split/val/val_subj{subject}_0.tar'\n",
    "\n",
    "# val_data = wds.DataPipeline([#wds.SimpleShardList(val_url),\n",
    "#                     wds.tarfile_to_samples(val_url),\n",
    "#                     wds.decode(\"torch\"),\n",
    "#                     wds.rename(images=\"jpg;png\", voxels=\"nsdgeneral.npy\", trial=\"trial.npy\"),\n",
    "#                     wds.to_tuple(\"voxels\", 'images'),\n",
    "#                     wds.map(preprocess),\n",
    "#                     wds.batched(batch_size, partial=False),\n",
    "#                 ]).with_epoch(num_worker_batches)\n",
    "\n",
    "val_data = wds.WebDataset(val_url, resampled=False, nodesplitter=wds.split_by_node)\\\n",
    "    .decode(\"torch\")\\\n",
    "    .rename(images=\"jpg;png\", voxels=\"nsdgeneral.npy\", trial=\"trial.npy\")\\\n",
    "    .to_tuple(\"voxels\", 'images')\\\n",
    "    .map(preprocess)\\\n",
    "    .batched(batch_size, partial=False)\\\n",
    "    .with_epoch(num_worker_batches)\n",
    "\n",
    "val_dl = torch.utils.data.DataLoader(val_data, batch_size=None, num_workers=num_workers, shuffle=False)"
   ]
  },
  {
   "cell_type": "code",
   "execution_count": 5,
   "id": "ac7cbd6b",
   "metadata": {
    "tags": []
   },
   "outputs": [
    {
     "name": "stdout",
     "output_type": "stream",
     "text": [
      "idx 0\n",
      "voxel.shape torch.Size([300, 15724]) tensor([-0.5537, -0.6250, -0.5928, -1.1855], dtype=torch.float16)\n",
      "img_input.shape torch.Size([300, 3, 224, 224]) tensor([-0.2727,  1.1480,  1.8288,  1.8201])\n",
      "idx 1\n",
      "voxel.shape torch.Size([300, 15724]) tensor([-0.1572,  1.3652,  0.8164, -0.7310], dtype=torch.float16)\n",
      "img_input.shape torch.Size([300, 3, 224, 224]) tensor([0.8172, 0.8172, 0.7974, 0.7688])\n",
      "idx 2\n",
      "voxel.shape torch.Size([300, 15724]) tensor([-0.2185, -0.0928, -0.9380, -0.6802], dtype=torch.float16)\n",
      "img_input.shape torch.Size([300, 3, 224, 224]) tensor([-0.3197, -0.3027, -0.2432, -0.2646])\n",
      "idx 3\n",
      "voxel.shape torch.Size([300, 15724]) tensor([-1.8115, -2.0488, -0.2144, -1.5723], dtype=torch.float16)\n",
      "img_input.shape torch.Size([300, 3, 224, 224]) tensor([-1.5448, -1.5289, -1.4297, -1.2294])\n"
     ]
    }
   ],
   "source": [
    "# check that your training data loaders are working\n",
    "for train_i, (voxel, img_input) in enumerate(train_dl):\n",
    "    print(\"idx\",train_i)\n",
    "    print(\"voxel.shape\",voxel.shape,voxel[0,20:24])\n",
    "    print(\"img_input.shape\",img_input.shape,img_input[0,0,0,100:104])\n",
    "    if train_i>2:\n",
    "        break"
   ]
  },
  {
   "cell_type": "code",
   "execution_count": 6,
   "id": "bf574d3e",
   "metadata": {},
   "outputs": [
    {
     "name": "stderr",
     "output_type": "stream",
     "text": [
      "0it [00:02, ?it/s]"
     ]
    },
    {
     "name": "stdout",
     "output_type": "stream",
     "text": [
      "idx 0\n",
      "voxel.shape torch.Size([300, 15724]) tensor([ 1.0420,  1.2803, -0.4688,  1.0654], dtype=torch.float16)\n",
      "img_input.shape torch.Size([300, 3, 224, 224]) tensor([-0.2052, -0.1773, -0.1589, -0.2151])\n"
     ]
    },
    {
     "name": "stderr",
     "output_type": "stream",
     "text": [
      "\n"
     ]
    }
   ],
   "source": [
    "# check that validation data loader is working\n",
    "for val_i, (voxel, img_input) in enumerate(tqdm(val_dl)):\n",
    "    print(\"idx\",val_i)\n",
    "    print(\"voxel.shape\",voxel.shape,voxel[0,20:24])\n",
    "    print(\"img_input.shape\",img_input.shape,img_input[0,0,0,100:104])\n",
    "    if train_i>2:\n",
    "        break"
   ]
  },
  {
   "cell_type": "code",
   "execution_count": 7,
   "id": "22bfa13c",
   "metadata": {},
   "outputs": [
    {
     "name": "stderr",
     "output_type": "stream",
     "text": [
      "1it [00:02,  2.76s/it]\n"
     ]
    }
   ],
   "source": [
    "# check validation batches are working correctly\n",
    "# nothing prints out if correct\n",
    "for train_i, (voxel, img_input) in enumerate(tqdm(val_dl)):\n",
    "    if voxel.shape[0]!=batch_size:\n",
    "        print(\"idx\",train_i)\n",
    "        print(\"voxel.shape\",voxel.shape,voxel[0,20:24])\n",
    "        print(\"img_input.shape\",img_input.shape,img_input[0,0,0,100:104])\n",
    "        break"
   ]
  },
  {
   "cell_type": "code",
   "execution_count": 8,
   "id": "04ee264c",
   "metadata": {},
   "outputs": [
    {
     "name": "stderr",
     "output_type": "stream",
     "text": [
      "0it [00:05, ?it/s]\n",
      "0it [00:04, ?it/s]"
     ]
    },
    {
     "name": "stdout",
     "output_type": "stream",
     "text": [
      "tensor(0., dtype=torch.float16)\n"
     ]
    },
    {
     "name": "stderr",
     "output_type": "stream",
     "text": [
      "\n"
     ]
    }
   ],
   "source": [
    "# check that batches are deterministic\n",
    "for val_i, (voxel, img_input) in enumerate(tqdm(train_dl)):\n",
    "    if val_i==0:\n",
    "        voxel_1 = voxel\n",
    "        break\n",
    "        \n",
    "for val_i, (voxel, img_input) in enumerate(tqdm(train_dl)):\n",
    "    if val_i==0:\n",
    "        voxel_2 = voxel\n",
    "        break\n",
    "        \n",
    "print(torch.sum(voxel_1-voxel_2))"
   ]
  },
  {
   "cell_type": "markdown",
   "id": "0fd38315",
   "metadata": {},
   "source": [
    "### Load Algonauts images from test split"
   ]
  },
  {
   "cell_type": "code",
   "execution_count": 9,
   "id": "bb31cb95",
   "metadata": {},
   "outputs": [],
   "source": [
    "class argObj:\n",
    "  def __init__(self, data_dir, parent_submission_dir, subj):\n",
    "    \n",
    "    self.subj = format(subj, '02')\n",
    "    self.data_dir = os.path.join(data_dir, 'subj'+self.subj)\n",
    "    self.parent_submission_dir = parent_submission_dir\n",
    "    self.subject_submission_dir = os.path.join(self.parent_submission_dir,\n",
    "        'subj'+self.subj)\n",
    "\n",
    "    # Create the submission directory if not existing\n",
    "    if not os.path.isdir(self.subject_submission_dir):\n",
    "        os.makedirs(self.subject_submission_dir)\n",
    "\n",
    "data_dir = '../algonauts_2023_challenge_data'\n",
    "parent_submission_dir = 'algonauts_2023_challenge_submission'\n",
    "subj = 1 \n",
    "\n",
    "args = argObj(data_dir, parent_submission_dir, subj)"
   ]
  },
  {
   "cell_type": "code",
   "execution_count": 10,
   "id": "b4955035",
   "metadata": {},
   "outputs": [
    {
     "name": "stdout",
     "output_type": "stream",
     "text": [
      "Test stimulus images: 159\n"
     ]
    }
   ],
   "source": [
    "test_img_dir  = os.path.join(args.data_dir, 'test_split', 'test_images')\n",
    "\n",
    "# Create list will all test image file names, sorted\n",
    "test_img_list = os.listdir(test_img_dir)\n",
    "test_img_list.sort()\n",
    "idxs_test = np.arange(len(test_img_list))\n",
    "print('Test stimulus images: ' + format(len(idxs_test)))"
   ]
  },
  {
   "cell_type": "code",
   "execution_count": 11,
   "id": "2bac3eb8",
   "metadata": {},
   "outputs": [],
   "source": [
    "transform_test = transforms.Compose([\n",
    "    transforms.Resize(224),\n",
    "#     transforms.Resize(256),\n",
    "#     transforms.CenterCrop(224),\n",
    "    transforms.ToTensor(),\n",
    "    transforms.Normalize(mean=[0.485, 0.456, 0.406], std=[0.229, 0.224, 0.225]),\n",
    "])"
   ]
  },
  {
   "cell_type": "code",
   "execution_count": 12,
   "id": "78bff83f",
   "metadata": {},
   "outputs": [],
   "source": [
    "class ImageDataset(torch.utils.data.Dataset):\n",
    "    def __init__(self, imgs_paths, idxs, transform):\n",
    "        self.imgs_paths = np.array(imgs_paths)[idxs]\n",
    "        self.transform = transform\n",
    "\n",
    "    def __len__(self):\n",
    "        return len(self.imgs_paths)\n",
    "\n",
    "    def __getitem__(self, idx):\n",
    "        # Load the image\n",
    "        img_path = self.imgs_paths[idx]\n",
    "        img = PIL.Image.open(img_path).convert('RGB')\n",
    "        # Preprocess the image and send it to the chosen device ('cpu' or 'cuda')\n",
    "        if self.transform:\n",
    "            img = self.transform(img).to(device)\n",
    "        return img"
   ]
  },
  {
   "cell_type": "code",
   "execution_count": 21,
   "id": "5e1c1b01",
   "metadata": {},
   "outputs": [],
   "source": [
    "batch_size = 300 #@param\n",
    "# Get the paths of all image files\n",
    "test_imgs_paths = sorted(list(Path(test_img_dir).iterdir()))\n",
    "\n",
    "# The DataLoaders contain the ImageDataset class\n",
    "test_imgs_dataloader = torch.utils.data.DataLoader(\n",
    "    ImageDataset(test_imgs_paths, idxs_test, transform_test), \n",
    "    batch_size=batch_size\n",
    ")"
   ]
  },
  {
   "cell_type": "markdown",
   "id": "eb40874f",
   "metadata": {},
   "source": [
    "# Train model (input = image; output = predicted fMRI)"
   ]
  },
  {
   "cell_type": "markdown",
   "id": "9c2a408b",
   "metadata": {},
   "source": [
    "### load pretrained alexnet"
   ]
  },
  {
   "cell_type": "code",
   "execution_count": 14,
   "id": "728fd753",
   "metadata": {
    "tags": []
   },
   "outputs": [
    {
     "name": "stderr",
     "output_type": "stream",
     "text": [
      "Using cache found in /home/dw26/.cache/torch/hub/pytorch_vision_v0.10.0\n"
     ]
    },
    {
     "data": {
      "text/plain": [
       "AlexNet(\n",
       "  (features): Sequential(\n",
       "    (0): Conv2d(3, 64, kernel_size=(11, 11), stride=(4, 4), padding=(2, 2))\n",
       "    (1): ReLU(inplace=True)\n",
       "    (2): MaxPool2d(kernel_size=3, stride=2, padding=0, dilation=1, ceil_mode=False)\n",
       "    (3): Conv2d(64, 192, kernel_size=(5, 5), stride=(1, 1), padding=(2, 2))\n",
       "    (4): ReLU(inplace=True)\n",
       "    (5): MaxPool2d(kernel_size=3, stride=2, padding=0, dilation=1, ceil_mode=False)\n",
       "    (6): Conv2d(192, 384, kernel_size=(3, 3), stride=(1, 1), padding=(1, 1))\n",
       "    (7): ReLU(inplace=True)\n",
       "    (8): Conv2d(384, 256, kernel_size=(3, 3), stride=(1, 1), padding=(1, 1))\n",
       "    (9): ReLU(inplace=True)\n",
       "    (10): Conv2d(256, 256, kernel_size=(3, 3), stride=(1, 1), padding=(1, 1))\n",
       "    (11): ReLU(inplace=True)\n",
       "    (12): MaxPool2d(kernel_size=3, stride=2, padding=0, dilation=1, ceil_mode=False)\n",
       "  )\n",
       "  (avgpool): AdaptiveAvgPool2d(output_size=(6, 6))\n",
       "  (classifier): Sequential(\n",
       "    (0): Dropout(p=0.5, inplace=False)\n",
       "    (1): Linear(in_features=9216, out_features=4096, bias=True)\n",
       "    (2): ReLU(inplace=True)\n",
       "    (3): Dropout(p=0.5, inplace=False)\n",
       "    (4): Linear(in_features=4096, out_features=4096, bias=True)\n",
       "    (5): ReLU(inplace=True)\n",
       "    (6): Linear(in_features=4096, out_features=1000, bias=True)\n",
       "  )\n",
       ")"
      ]
     },
     "execution_count": 14,
     "metadata": {},
     "output_type": "execute_result"
    }
   ],
   "source": [
    "model = torch.hub.load('pytorch/vision:v0.10.0', 'alexnet') # run in commandline if not loading\n",
    "model.to(device) # send the model to the chosen device ('cpu' or 'cuda')\n",
    "model.eval() # set the model to evaluation mode, since you are not training it"
   ]
  },
  {
   "cell_type": "markdown",
   "id": "00f6cc76",
   "metadata": {},
   "source": [
    "### Extract and downsample chosen alexnet features"
   ]
  },
  {
   "cell_type": "code",
   "execution_count": 15,
   "id": "50470ece",
   "metadata": {},
   "outputs": [],
   "source": [
    "# load model\n",
    "model_layer = \"features.2\"  # choose layer\n",
    "feature_extractor = create_feature_extractor(model, return_nodes=[model_layer])"
   ]
  },
  {
   "cell_type": "code",
   "execution_count": 16,
   "id": "b355bb42",
   "metadata": {},
   "outputs": [
    {
     "name": "stdout",
     "output_type": "stream",
     "text": [
      "AlexNet(\n",
      "  (features): Module(\n",
      "    (0): Conv2d(3, 64, kernel_size=(11, 11), stride=(4, 4), padding=(2, 2))\n",
      "    (1): ReLU(inplace=True)\n",
      "    (2): MaxPool2d(kernel_size=3, stride=2, padding=0, dilation=1, ceil_mode=False)\n",
      "  )\n",
      ")\n",
      "\n",
      "\n",
      "\n",
      "def forward(self, x : torch.Tensor):\n",
      "    features_0 = getattr(self.features, \"0\")(x);  x = None\n",
      "    features_1 = getattr(self.features, \"1\")(features_0);  features_0 = None\n",
      "    features_2 = getattr(self.features, \"2\")(features_1);  features_1 = None\n",
      "    return {'features.2': features_2}\n",
      "    \n"
     ]
    }
   ],
   "source": [
    "print(feature_extractor)"
   ]
  },
  {
   "cell_type": "code",
   "execution_count": 17,
   "id": "b72a0961",
   "metadata": {},
   "outputs": [],
   "source": [
    "# Incremental PCA computes features\n",
    "from sklearn.decomposition import IncrementalPCA\n",
    "\n",
    "def fit_pca(feature_extractor, dataloader):\n",
    "\n",
    "    # Define PCA parameters\n",
    "    pca = IncrementalPCA(n_components=100, batch_size=batch_size)\n",
    "    # Fit PCA to batch\n",
    "    for _, (voxel, img) in enumerate(tqdm(dataloader)):\n",
    "        # Extract features\n",
    "        ft = feature_extractor(img.to(device))\n",
    "        # Flatten the features\n",
    "        ft = torch.hstack([torch.flatten(l, start_dim=1) for l in ft.values()])\n",
    "        # Fit PCA to batch\n",
    "        pca.partial_fit(ft.detach().cpu().numpy())\n",
    "    return pca"
   ]
  },
  {
   "cell_type": "code",
   "execution_count": 18,
   "id": "1b40875f",
   "metadata": {},
   "outputs": [
    {
     "name": "stderr",
     "output_type": "stream",
     "text": [
      "30it [05:40, 11.34s/it]\n"
     ]
    }
   ],
   "source": [
    "pca = fit_pca(feature_extractor, train_dl)"
   ]
  },
  {
   "cell_type": "code",
   "execution_count": 19,
   "id": "4f9fd107",
   "metadata": {},
   "outputs": [],
   "source": [
    "# gets principal components of features for each images using derived PCA\n",
    "# while going through dataset, also prepare training/validation fMRI matrix from dataloader for regression\n",
    "def extract_features(feature_extractor, dataloader, pca):\n",
    "\n",
    "    features = []\n",
    "    fmri = torch.tensor([])\n",
    "    for _, (voxel, img) in enumerate(tqdm(dataloader)):\n",
    "        # Extract features\n",
    "        ft = feature_extractor(img.to(device))\n",
    "        # Flatten the features\n",
    "        ft = torch.hstack([torch.flatten(l, start_dim=1) for l in ft.values()])\n",
    "        # Apply PCA transform\n",
    "        ft = pca.transform(ft.cpu().detach().numpy())\n",
    "        features.append(ft)\n",
    "        \n",
    "        fmri = torch.cat((fmri, voxel), 0)\n",
    "    return np.vstack(features), fmri"
   ]
  },
  {
   "cell_type": "code",
   "execution_count": 41,
   "id": "fa033ca2",
   "metadata": {},
   "outputs": [],
   "source": [
    "# gets principal components of features for each images using derived PCA\n",
    "# while going through dataset, also prepare training/validation fMRI matrix from dataloader for regression\n",
    "def extract_features_test(feature_extractor, dataloader, pca):\n",
    "    features = []\n",
    "    for _, img in enumerate(tqdm(dataloader)):\n",
    "        # Extract features\n",
    "        ft = feature_extractor(img.to(device))\n",
    "        # Flatten the features\n",
    "        ft = torch.hstack([torch.flatten(l, start_dim=1) for l in ft.values()])\n",
    "        # Apply PCA transform\n",
    "        ft = pca.transform(ft.cpu().detach().numpy())\n",
    "        features.append(ft)\n",
    "        \n",
    "    return np.vstack(features)"
   ]
  },
  {
   "cell_type": "code",
   "execution_count": 22,
   "id": "22cae371",
   "metadata": {},
   "outputs": [
    {
     "name": "stderr",
     "output_type": "stream",
     "text": [
      "30it [02:26,  4.89s/it]\n",
      "1it [00:04,  4.86s/it]\n",
      "  0%|                                                    | 0/1 [00:02<?, ?it/s]\n"
     ]
    },
    {
     "ename": "ValueError",
     "evalue": "too many values to unpack (expected 2)",
     "output_type": "error",
     "traceback": [
      "\u001b[0;31m---------------------------------------------------------------------------\u001b[0m",
      "\u001b[0;31mValueError\u001b[0m                                Traceback (most recent call last)",
      "Input \u001b[0;32mIn [22]\u001b[0m, in \u001b[0;36m<cell line: 3>\u001b[0;34m()\u001b[0m\n\u001b[1;32m      1\u001b[0m features_train, fmri_train \u001b[38;5;241m=\u001b[39m extract_features(feature_extractor, train_dl, pca)\n\u001b[1;32m      2\u001b[0m features_val, fmri_val \u001b[38;5;241m=\u001b[39m extract_features(feature_extractor, val_dl, pca)\n\u001b[0;32m----> 3\u001b[0m features_test \u001b[38;5;241m=\u001b[39m \u001b[43mextract_features\u001b[49m\u001b[43m(\u001b[49m\u001b[43mfeature_extractor\u001b[49m\u001b[43m,\u001b[49m\u001b[43m \u001b[49m\u001b[43mtest_imgs_dataloader\u001b[49m\u001b[43m,\u001b[49m\u001b[43m \u001b[49m\u001b[43mpca\u001b[49m\u001b[43m)\u001b[49m\n\u001b[1;32m      5\u001b[0m \u001b[38;5;28mprint\u001b[39m(\u001b[38;5;124m'\u001b[39m\u001b[38;5;130;01m\\n\u001b[39;00m\u001b[38;5;124mTraining images features:\u001b[39m\u001b[38;5;124m'\u001b[39m)\n\u001b[1;32m      6\u001b[0m \u001b[38;5;28mprint\u001b[39m(features_train\u001b[38;5;241m.\u001b[39mshape)\n",
      "Input \u001b[0;32mIn [19]\u001b[0m, in \u001b[0;36mextract_features\u001b[0;34m(feature_extractor, dataloader, pca)\u001b[0m\n\u001b[1;32m      5\u001b[0m features \u001b[38;5;241m=\u001b[39m []\n\u001b[1;32m      6\u001b[0m fmri \u001b[38;5;241m=\u001b[39m torch\u001b[38;5;241m.\u001b[39mtensor([])\n\u001b[0;32m----> 7\u001b[0m \u001b[38;5;28;01mfor\u001b[39;00m _, (voxel, img) \u001b[38;5;129;01min\u001b[39;00m \u001b[38;5;28menumerate\u001b[39m(tqdm(dataloader)):\n\u001b[1;32m      8\u001b[0m     \u001b[38;5;66;03m# Extract features\u001b[39;00m\n\u001b[1;32m      9\u001b[0m     ft \u001b[38;5;241m=\u001b[39m feature_extractor(img\u001b[38;5;241m.\u001b[39mto(device))\n\u001b[1;32m     10\u001b[0m     \u001b[38;5;66;03m# Flatten the features\u001b[39;00m\n",
      "\u001b[0;31mValueError\u001b[0m: too many values to unpack (expected 2)"
     ]
    }
   ],
   "source": [
    "features_train, fmri_train = extract_features(feature_extractor, train_dl, pca)\n",
    "features_val, fmri_val = extract_features(feature_extractor, val_dl, pca)\n",
    "\n",
    "print('\\nTraining images features:')\n",
    "print(features_train.shape)\n",
    "print('(Training stimulus images × PCA features)')\n",
    "\n",
    "print('\\nValidation images features:')\n",
    "print(features_val.shape)\n",
    "print('(Validation stimulus images × PCA features)')\n"
   ]
  },
  {
   "cell_type": "code",
   "execution_count": 42,
   "id": "29c36474",
   "metadata": {},
   "outputs": [
    {
     "name": "stderr",
     "output_type": "stream",
     "text": [
      "100%|████████████████████████████████████████████| 1/1 [00:02<00:00,  2.88s/it]"
     ]
    },
    {
     "name": "stdout",
     "output_type": "stream",
     "text": [
      "\n",
      "Test images features:\n",
      "(159, 100)\n",
      "(Test stimulus images × PCA features)\n"
     ]
    },
    {
     "name": "stderr",
     "output_type": "stream",
     "text": [
      "\n"
     ]
    }
   ],
   "source": [
    "features_test = extract_features_test(feature_extractor, test_imgs_dataloader, pca)\n",
    "\n",
    "print('\\nTest images features:')\n",
    "print(features_test.shape)\n",
    "print('(Test stimulus images × PCA features)')"
   ]
  },
  {
   "cell_type": "code",
   "execution_count": 43,
   "id": "70e24b6a",
   "metadata": {},
   "outputs": [],
   "source": [
    "del model, pca"
   ]
  },
  {
   "cell_type": "markdown",
   "id": "a921fa33",
   "metadata": {},
   "source": [
    "### mask for nsdgeneral voxels"
   ]
  },
  {
   "cell_type": "code",
   "execution_count": 44,
   "id": "ebde86c6",
   "metadata": {},
   "outputs": [
    {
     "name": "stdout",
     "output_type": "stream",
     "text": [
      "torch.Size([81, 104, 83])\n",
      "tensor(15724)\n"
     ]
    }
   ],
   "source": [
    "# whole brain space is 81x104x83\n",
    "# nsdgeneral sapce is 15724\n",
    "import nibabel as nib\n",
    "\n",
    "file = f\"/scratch/gpfs/KNORMAN/natural-scenes-dataset/nsddata/ppdata/subj{subject}/func1pt8mm/roi/nsdgeneral.nii.gz\"\n",
    "nifti = nib.load(file)\n",
    "nsd_mask = nifti.get_fdata()\n",
    "nsd_mask = nsd_mask>0\n",
    "nsd_mask = torch.from_numpy(nsd_mask)\n",
    "print(nsd_mask.shape)\n",
    "print(torch.sum(nsd_mask))"
   ]
  },
  {
   "cell_type": "markdown",
   "id": "71fa1d5e",
   "metadata": {},
   "source": [
    "### Linearly map downsampled alexnet features to fMRI"
   ]
  },
  {
   "cell_type": "code",
   "execution_count": 45,
   "id": "e0f6e816",
   "metadata": {},
   "outputs": [
    {
     "name": "stdout",
     "output_type": "stream",
     "text": [
      "fMRI training shape: torch.Size([9000, 15724])\n",
      "fMRI validation shape: torch.Size([300, 15724])\n",
      "Linearized Features shape: (9000, 100)\n"
     ]
    }
   ],
   "source": [
    "print(\"fMRI training shape:\",fmri_train.shape)\n",
    "print(\"fMRI validation shape:\",fmri_val.shape)\n",
    "print(\"Linearized Features shape:\", features_train.shape)"
   ]
  },
  {
   "cell_type": "code",
   "execution_count": 46,
   "id": "87d8ce50",
   "metadata": {},
   "outputs": [
    {
     "name": "stdout",
     "output_type": "stream",
     "text": [
      "tensor([-0.2374, -0.4001, -0.7935,  ...,  0.3442, -0.8984, -1.1035])\n"
     ]
    }
   ],
   "source": [
    "print(fmri_train[0])"
   ]
  },
  {
   "cell_type": "code",
   "execution_count": 47,
   "id": "192a7029",
   "metadata": {},
   "outputs": [],
   "source": [
    "from sklearn.linear_model import LinearRegression\n",
    "\n",
    "# Fit linear regressions on the training data\n",
    "reg = LinearRegression().fit(features_train, fmri_train)\n",
    "# Use fitted linear regressions to predict the validation and test fMRI data\n",
    "fmri_val_pred = reg.predict(features_val)\n",
    "fmri_test_pred = reg.predict(features_test)"
   ]
  },
  {
   "cell_type": "code",
   "execution_count": 48,
   "id": "7f74c2f7",
   "metadata": {},
   "outputs": [
    {
     "name": "stdout",
     "output_type": "stream",
     "text": [
      "(300, 15724)\n",
      "torch.Size([300, 15724])\n"
     ]
    }
   ],
   "source": [
    "print(fmri_val_pred.shape)\n",
    "print(fmri_val.shape)"
   ]
  },
  {
   "cell_type": "markdown",
   "id": "11d165fe",
   "metadata": {},
   "source": [
    "# Evaluations"
   ]
  },
  {
   "cell_type": "code",
   "execution_count": 49,
   "id": "faae0c0c",
   "metadata": {},
   "outputs": [
    {
     "name": "stderr",
     "output_type": "stream",
     "text": [
      "100%|██████████████████████████████████| 15724/15724 [00:02<00:00, 7713.23it/s]\n"
     ]
    }
   ],
   "source": [
    "from scipy.stats import pearsonr as corr\n",
    "\n",
    "correlation = np.zeros(fmri_val_pred.shape[1])\n",
    "# Correlate each predicted voxel with the corresponding ground truth voxel\n",
    "for v in tqdm(range(fmri_val_pred.shape[1])):\n",
    "    correlation[v] = corr(fmri_val_pred[:,v], fmri_val[:,v])[0]"
   ]
  },
  {
   "cell_type": "code",
   "execution_count": 50,
   "id": "6fc3215e",
   "metadata": {},
   "outputs": [
    {
     "name": "stdout",
     "output_type": "stream",
     "text": [
      "(15724,)\n",
      "[0.09496272 0.10336401 0.20729969 ... 0.09028771 0.14277491 0.19012718]\n",
      "(300,)\n"
     ]
    }
   ],
   "source": [
    "print(correlation.shape)\n",
    "print(correlation)\n",
    "print(fmri_val_pred[:,v].shape)"
   ]
  },
  {
   "cell_type": "code",
   "execution_count": 51,
   "id": "65f0c48d",
   "metadata": {},
   "outputs": [],
   "source": [
    "# Get roi class for given roi\n",
    "def getRoiClass(roi):\n",
    "    if roi in [\"V1v\", \"V1d\", \"V2v\", \"V2d\", \"V3v\", \"V3d\", \"hV4\"]:\n",
    "        roi_class = 'prf-visualrois'\n",
    "    elif roi in [\"EBA\", \"FBA-1\", \"FBA-2\", \"mTL-bodies\"]:\n",
    "        roi_class = 'floc-bodies'\n",
    "    elif roi in [\"OFA\", \"FFA-1\", \"FFA-2\", \"mTL-faces\", \"aTL-faces\"]:\n",
    "        roi_class = 'floc-faces'\n",
    "    elif roi in [\"OPA\", \"PPA\", \"RSC\"]:\n",
    "        roi_class = 'floc-places'\n",
    "    elif roi in [\"OWFA\", \"VWFA-1\", \"VWFA-2\", \"mfs-words\", \"mTL-words\"]:\n",
    "        roi_class = 'floc-words'\n",
    "    elif roi in [\"early\", \"midventral\", \"midlateral\", \"midparietal\", \"ventral\", \"lateral\", \"parietal\"]:\n",
    "        roi_class = 'streams'\n",
    "    elif roi in [\"nsdgeneral\"]:\n",
    "        roi_class = 'nsdgeneral'\n",
    "    else:\n",
    "        raise ValueError('invalid ROI')\n",
    "    return roi_class"
   ]
  },
  {
   "cell_type": "code",
   "execution_count": 52,
   "id": "37e70f0e",
   "metadata": {},
   "outputs": [],
   "source": [
    "# returns voxel/surface roi mask, for voxel its in reduced nsdgeneral space\n",
    "def getRoiMask(hemisphere, roi, space='voxel'):\n",
    "    # get ROI class for given ROI\n",
    "    roi_class = getRoiClass(roi)\n",
    "    if space == 'voxel':\n",
    "        file_roi = f\"/scratch/gpfs/KNORMAN/natural-scenes-dataset/nsddata/ppdata/subj{subject}/func1pt8mm/roi/{hemisphere[0]}h.{roi_class}.nii.gz\"\n",
    "    elif space == 'surface':\n",
    "        file_roi = f\"/scratch/gpfs/KNORMAN/natural-scenes-dataset/nsddata/freesurfer/subj{subject}/label/{hemisphere[0]}h.{roi_class}.mgz\"\n",
    "    else:\n",
    "        raise ValueError('invalid space')\n",
    "    nifti_roi = nib.load(file_roi)\n",
    "    mask_roi = nifti_roi.get_fdata()\n",
    "    \n",
    "    # get integer indices for ROI's mask in each ROI class\n",
    "    file_map = f\"/scratch/gpfs/KNORMAN/natural-scenes-dataset/nsddata/freesurfer/subj{subject}/label/{roi_class}.mgz.ctab\"\n",
    "    with open(file_map, \"r\") as file1:\n",
    "        map_list = file1.readlines()\n",
    "        map_dict = {}\n",
    "        for label in map_list:\n",
    "            roi_label = label.split()\n",
    "            map_dict.update({roi_label[1]: int(roi_label[0])})\n",
    "    \n",
    "    label_int = map_dict[roi]\n",
    "    mask_roi[mask_roi!=label_int] = 0\n",
    "    mask_roi = np.asarray(mask_roi,bool)\n",
    "    if space == 'voxel':\n",
    "        mask_roi = mask_roi[nsd_mask==1]\n",
    "    else:\n",
    "        mask_roi = np.squeeze(mask_roi)\n",
    "    \n",
    "    return mask_roi"
   ]
  },
  {
   "cell_type": "code",
   "execution_count": 53,
   "id": "ba718108",
   "metadata": {},
   "outputs": [
    {
     "name": "stdout",
     "output_type": "stream",
     "text": [
      "(226601,)\n",
      "35259\n",
      "699192\n"
     ]
    }
   ],
   "source": [
    "testmask = getRoiMask('right','nsdgeneral','surface')\n",
    "print(testmask.shape)\n",
    "print(np.sum(testmask))\n",
    "print(81*83*104)"
   ]
  },
  {
   "cell_type": "code",
   "execution_count": 54,
   "id": "ce726e96",
   "metadata": {},
   "outputs": [
    {
     "name": "stdout",
     "output_type": "stream",
     "text": [
      "torch.Size([9000, 15724])\n",
      "tensor([False])\n"
     ]
    }
   ],
   "source": [
    "test = fmri_train\n",
    "print(test.shape)\n",
    "x = torch.isnan(test)\n",
    "print(torch.unique(x))"
   ]
  },
  {
   "cell_type": "code",
   "execution_count": 55,
   "id": "5a89b042",
   "metadata": {},
   "outputs": [
    {
     "name": "stderr",
     "output_type": "stream",
     "text": [
      "100%|██████████████████████████████████████████| 32/32 [00:00<00:00, 36.31it/s]\n",
      "100%|██████████████████████████████████████████| 32/32 [00:00<00:00, 39.17it/s]\n"
     ]
    }
   ],
   "source": [
    "# get correlation by ROI\n",
    "roi_list = [\"V1v\", \"V1d\", \"V2v\", \"V2d\", \"V3v\", \"V3d\", \"hV4\", \"EBA\", \"FBA-1\", \"FBA-2\", \"mTL-bodies\", \"OFA\", \"FFA-1\", \"FFA-2\", \"mTL-faces\", \"aTL-faces\", \"OPA\", \"PPA\", \"RSC\", \"OWFA\", \"VWFA-1\", \"VWFA-2\", \"mfs-words\", \"mTL-words\", \"early\", \"midventral\", \"midlateral\", \"midparietal\", \"ventral\", \"lateral\", \"parietal\", \"nsdgeneral\"]\n",
    "\n",
    "lh_roi_correlation = []\n",
    "rh_roi_correlation = []\n",
    "for hemisphere in ['left', 'right']:\n",
    "    for roi in tqdm(roi_list):\n",
    "        mask_roi = getRoiMask(hemisphere,roi)\n",
    "        test = np.isnan(mask_roi)\n",
    "        if True in np.unique(test):\n",
    "            print(hemisphere, roi)\n",
    "        \n",
    "        correlation_roi = correlation[mask_roi==1]\n",
    "        test = np.isnan(correlation_roi)\n",
    "        if True in np.unique(test):\n",
    "            print(hemisphere, roi)\n",
    "\n",
    "        if hemisphere == 'left':\n",
    "            lh_roi_correlation.append(correlation_roi)\n",
    "        else:\n",
    "            rh_roi_correlation.append(correlation_roi)\n",
    "            "
   ]
  },
  {
   "cell_type": "code",
   "execution_count": 56,
   "id": "810ee6c4",
   "metadata": {},
   "outputs": [
    {
     "name": "stderr",
     "output_type": "stream",
     "text": [
      "/opt/conda/lib/python3.8/site-packages/numpy/core/fromnumeric.py:3474: RuntimeWarning: Mean of empty slice.\n",
      "  return _methods._mean(a, axis=axis, dtype=dtype,\n",
      "/opt/conda/lib/python3.8/site-packages/numpy/core/_methods.py:189: RuntimeWarning: invalid value encountered in double_scalars\n",
      "  ret = ret.dtype.type(ret / rcount)\n"
     ]
    }
   ],
   "source": [
    "# Create the plot\n",
    "lh_median_roi_correlation_nv = [np.median(lh_roi_correlation[r]) for r in range(len(lh_roi_correlation))]\n",
    "rh_median_roi_correlation_nv = [np.median(rh_roi_correlation[r]) for r in range(len(rh_roi_correlation))]"
   ]
  },
  {
   "cell_type": "code",
   "execution_count": 57,
   "id": "552e02c7",
   "metadata": {},
   "outputs": [
    {
     "data": {
      "image/png": "[encoded data removed]",
      "text/plain": [
       "<Figure size 1296x432 with 1 Axes>"
      ]
     },
     "metadata": {
      "needs_background": "light"
     },
     "output_type": "display_data"
    }
   ],
   "source": [
    "plt.figure(figsize=(18,6))\n",
    "x = np.arange(len(roi_list))\n",
    "width = 0.30\n",
    "plt.bar(x - width/2, lh_median_roi_correlation_nv, width, label='Left Hemisphere')\n",
    "plt.bar(x + width/2, rh_median_roi_correlation_nv, width,label='Right Hemishpere')\n",
    "plt.xlim(left=min(x)-.5, right=max(x)+.5)\n",
    "# plt.ylim(bottom=0, top=1)\n",
    "plt.xlabel('ROIs')\n",
    "plt.xticks(ticks=x, labels=roi_list, rotation=60)\n",
    "plt.ylabel('Median Pearson\\'s $r$')\n",
    "plt.legend(frameon=True, loc=1)\n",
    "plt.title(\"Correlations by ROI in native voxel space\");"
   ]
  },
  {
   "cell_type": "code",
   "execution_count": 58,
   "id": "8ed8364e",
   "metadata": {},
   "outputs": [
    {
     "data": {
      "text/plain": [
       "False"
      ]
     },
     "execution_count": 58,
     "metadata": {},
     "output_type": "execute_result"
    }
   ],
   "source": [
    "np.any(correlation_roi==1.)"
   ]
  },
  {
   "cell_type": "markdown",
   "id": "9bd678bf",
   "metadata": {},
   "source": [
    "# Map from native voxel space to fsaverage surface space\n",
    "The Algonauts competition requires results in fsaverage space."
   ]
  },
  {
   "cell_type": "markdown",
   "id": "4c4f2b43",
   "metadata": {},
   "source": [
    "## Save voxel predictions as 3d Nifti file"
   ]
  },
  {
   "cell_type": "code",
   "execution_count": 59,
   "id": "36c14118",
   "metadata": {},
   "outputs": [],
   "source": [
    "# convert fMRI predictions on validation set\n",
    "from nilearn.image import load_img, new_img_like\n",
    "\n",
    "# temp_s3_dir = '/fsx/proj-medarc/fmri/natural-scenes-dataset/temp_s3'\n",
    "temp_s3_dir = '/scratch/gpfs/KNORMAN/natural-scenes-dataset'\n",
    "\n",
    "def voxelTo3DNifti(data):\n",
    "    data = np.copy(data) \n",
    "    mask = np.copy(nsd_mask)\n",
    "    mask = np.tile(mask, (data.shape[0],1,1,1))\n",
    "    data_to_convert = np.zeros_like(mask, dtype=data.dtype)\n",
    "    data_to_convert[:,nsd_mask==True]=data\n",
    "    \n",
    "    data_to_convert = np.array(data_to_convert).astype(np.float32)\n",
    "    data_to_convert = np.moveaxis(data_to_convert,0,-1)\n",
    "\n",
    "    out_niimg_path = 'out.nii.gz'\n",
    "    avg_out_niimg_path = 'avg_out.nii.gz'\n",
    "\n",
    "    ref_niimg = load_img(f'{temp_s3_dir}/nsddata_betas/ppdata/subj{subject}/func1pt8mm/betas_fithrf_GLMdenoise_RR/R2_session01.nii.gz')\n",
    "    assert ref_niimg.get_fdata().shape == data_to_convert.shape[:3]\n",
    "\n",
    "    out_niimg = new_img_like(ref_niimg, data_to_convert, affine=None, copy_header=True)\n",
    "    out_niimg.to_filename(out_niimg_path)\n",
    "\n",
    "    # also output a nifti volume averaging across the first dimension\n",
    "    avg_out_niimg = new_img_like(ref_niimg, np.mean(data_to_convert,axis=3), affine=None, copy_header=True)\n",
    "    avg_out_niimg.to_filename(avg_out_niimg_path)\n",
    "    \n",
    "    return out_niimg_path, avg_out_niimg"
   ]
  },
  {
   "cell_type": "code",
   "execution_count": 60,
   "id": "d3a55ee5",
   "metadata": {},
   "outputs": [],
   "source": [
    "out_niimg_path, avg_out_niimg = voxelTo3DNifti(fmri_val_pred)"
   ]
  },
  {
   "cell_type": "markdown",
   "id": "77a752b4-b8f8-48af-8d9d-8a34faad7377",
   "metadata": {
    "tags": []
   },
   "source": [
    "### Visualize brain volume (sanity check)"
   ]
  },
  {
   "cell_type": "code",
   "execution_count": 61,
   "id": "6eb82a12-b860-410d-82e7-acaa277545fd",
   "metadata": {
    "tags": []
   },
   "outputs": [
    {
     "data": {
      "image/png": "[encoded data removed]",
      "text/plain": [
       "<Figure size 475.2x187.2 with 4 Axes>"
      ]
     },
     "metadata": {},
     "output_type": "display_data"
    }
   ],
   "source": [
    "from nilearn import plotting\n",
    "anat = load_img(f'{temp_s3_dir}/nsddata/ppdata/subj01/anat/T1_0pt8_masked.nii.gz')\n",
    "plotting.plot_anat(anat).add_overlay(avg_out_niimg,cmap=plotting.cm.cold_hot,clim=[-3,3])\n",
    "# plotting.view_img(avg_out_niimg,bg_img=anat)"
   ]
  },
  {
   "cell_type": "markdown",
   "id": "d19f5f6c",
   "metadata": {},
   "source": [
    "## Convert Nifti from native voxel space -> native surface space -> fsaverage surface space"
   ]
  },
  {
   "cell_type": "code",
   "execution_count": 62,
   "id": "f49b3626",
   "metadata": {
    "tags": []
   },
   "outputs": [],
   "source": [
    "from nsdcode.nsd_mapdata import NSDmapdata\n",
    "from nsdcode.nsd_datalocation import nsd_datalocation\n",
    "\n",
    "def nvTofs(niimg_path):\n",
    "    nsd = NSDmapdata(temp_s3_dir)\n",
    "\n",
    "    # Example terminal commands to cp NSD buckets temporarily to local storage \n",
    "    # remove \"--recursive\" if copying a single file instead of contents of a folder\n",
    "    # in_dir = 'nsddata/ppdata/subj01/transforms/lh.MNI-to-layerB3.mgz'\n",
    "    # print(f\"aws s3 cp --recursive s3://natural-scenes-dataset/{in_dir} {temp_s3_dir}/{in_dir}\")\n",
    "\n",
    "    # Mapping to subject-specific surface space across the three cortical depths\n",
    "    for hemisphere in ['lh','rh']:\n",
    "        data = []\n",
    "        for p in range(3):\n",
    "            data.append(\n",
    "                nsd.fit(\n",
    "                    int(subject),\n",
    "                    'func1pt8', # source space\n",
    "                    f'{hemisphere}.layerB{p+1}', # target space\n",
    "                    niimg_path,\n",
    "                    'cubic',\n",
    "                    badval=0\n",
    "                )\n",
    "            )\n",
    "        data = np.array(data)\n",
    "        assert np.all(data==0) == False\n",
    "\n",
    "        # Now we average results across the three cortical depths and use\n",
    "        # nearest-neighbor interpolation to bring the result to fsaverage.\n",
    "        surface_data = nsd.fit(\n",
    "            int(subject),\n",
    "            f'{hemisphere}.white',\n",
    "            'fsaverage',\n",
    "            np.mean(data, axis=0),\n",
    "            interptype=None,\n",
    "            badval=0,\n",
    "            fsdir=f'{temp_s3_dir}/nsddata/freesurfer/subj01')\n",
    "        if hemisphere=='lh':\n",
    "            lh_fmri = surface_data\n",
    "        elif hemisphere=='rh':\n",
    "            rh_fmri = surface_data\n",
    "        print(f\"hemisphere {hemisphere}: surface_data.shape=\", surface_data.shape)\n",
    "\n",
    "\n",
    "\n",
    "    lh_fmri = lh_fmri.astype(np.float32)\n",
    "    rh_fmri = rh_fmri.astype(np.float32)\n",
    "\n",
    "    assert not np.all(lh_fmri == rh_fmri)\n",
    "    \n",
    "    return lh_fmri, rh_fmri"
   ]
  },
  {
   "cell_type": "code",
   "execution_count": 63,
   "id": "a13ef005",
   "metadata": {},
   "outputs": [
    {
     "name": "stderr",
     "output_type": "stream",
     "text": [
      "volumes: 100%|███████████████████████████████| 300/300 [00:49<00:00,  6.10it/s]\n",
      "volumes: 100%|███████████████████████████████| 300/300 [00:49<00:00,  6.12it/s]\n",
      "volumes: 100%|███████████████████████████████| 300/300 [00:48<00:00,  6.15it/s]\n"
     ]
    },
    {
     "name": "stdout",
     "output_type": "stream",
     "text": [
      "data array passed\n",
      "hemisphere lh: surface_data.shape= (163842, 300)\n"
     ]
    },
    {
     "name": "stderr",
     "output_type": "stream",
     "text": [
      "volumes: 100%|███████████████████████████████| 300/300 [00:47<00:00,  6.26it/s]\n",
      "volumes: 100%|███████████████████████████████| 300/300 [00:48<00:00,  6.22it/s]\n",
      "volumes: 100%|███████████████████████████████| 300/300 [00:48<00:00,  6.23it/s]\n"
     ]
    },
    {
     "name": "stdout",
     "output_type": "stream",
     "text": [
      "data array passed\n",
      "hemisphere rh: surface_data.shape= (163842, 300)\n"
     ]
    }
   ],
   "source": [
    "lh_fmri_val_pred, rh_fmri_val_pred = nvTofs(out_niimg_path)"
   ]
  },
  {
   "cell_type": "code",
   "execution_count": 64,
   "id": "551588c6",
   "metadata": {},
   "outputs": [
    {
     "name": "stdout",
     "output_type": "stream",
     "text": [
      "(163842, 300) (163842, 300)\n"
     ]
    }
   ],
   "source": [
    "print(lh_fmri_val_pred.shape, rh_fmri_val_pred.shape)"
   ]
  },
  {
   "cell_type": "code",
   "execution_count": 65,
   "id": "46cf9eb7",
   "metadata": {},
   "outputs": [
    {
     "name": "stderr",
     "output_type": "stream",
     "text": [
      "volumes: 100%|███████████████████████████████| 300/300 [00:48<00:00,  6.19it/s]\n",
      "volumes: 100%|███████████████████████████████| 300/300 [00:48<00:00,  6.19it/s]\n",
      "volumes: 100%|███████████████████████████████| 300/300 [00:47<00:00,  6.28it/s]\n"
     ]
    },
    {
     "name": "stdout",
     "output_type": "stream",
     "text": [
      "data array passed\n",
      "hemisphere lh: surface_data.shape= (163842, 300)\n"
     ]
    },
    {
     "name": "stderr",
     "output_type": "stream",
     "text": [
      "volumes: 100%|███████████████████████████████| 300/300 [00:48<00:00,  6.24it/s]\n",
      "volumes: 100%|███████████████████████████████| 300/300 [00:48<00:00,  6.25it/s]\n",
      "volumes: 100%|███████████████████████████████| 300/300 [00:48<00:00,  6.24it/s]\n"
     ]
    },
    {
     "name": "stdout",
     "output_type": "stream",
     "text": [
      "data array passed\n",
      "hemisphere rh: surface_data.shape= (163842, 300)\n"
     ]
    }
   ],
   "source": [
    "# convert original validation datasplit to fsaverage? where is the webdataset split in fsaverage space?\n",
    "out_niimg_path, avg_out_niimg = voxelTo3DNifti(fmri_val)\n",
    "lh_fmri_val, rh_fmri_val = nvTofs(out_niimg_path)"
   ]
  },
  {
   "cell_type": "code",
   "execution_count": 66,
   "id": "e55a8897",
   "metadata": {},
   "outputs": [
    {
     "name": "stdout",
     "output_type": "stream",
     "text": [
      "(163842, 300) [-2.3147393e-22 -6.7598937e-22  4.6217828e-22]\n",
      "(163842, 300) [ 8.0116299e-19 -3.3027527e-18  2.9516550e-18]\n",
      "(163842, 300) [-5.8006514e-23 -5.8006514e-23 -8.8991740e-23]\n",
      "(163842, 300) [3.3822164e-19 3.3822164e-19 2.5491129e-19]\n",
      "107471.84\n",
      "99563.51\n",
      "torch.Size([300, 15724]) tensor([ 0.3027, -0.3076, -0.5547])\n",
      "(300, 15724) [-0.09014918 -0.01176878 -0.07303096]\n",
      "80247.56116937235\n",
      "False\n",
      "False\n",
      "False\n",
      "False\n"
     ]
    }
   ],
   "source": [
    "indices = range(100,103)\n",
    "print(lh_fmri_val.shape, lh_fmri_val[0,indices])\n",
    "print(rh_fmri_val.shape, rh_fmri_val[0,indices])\n",
    "print(lh_fmri_val_pred.shape, lh_fmri_val_pred[0,indices])\n",
    "print(rh_fmri_val_pred.shape, rh_fmri_val_pred[0,indices])\n",
    "print(np.sum(lh_fmri_val-lh_fmri_val_pred))\n",
    "print(np.sum(rh_fmri_val-rh_fmri_val_pred))\n",
    "\n",
    "print(fmri_val.shape, fmri_val[0, indices])\n",
    "print(fmri_val_pred.shape, fmri_val_pred[0, indices])\n",
    "print(np.sum(fmri_val.numpy()-fmri_val_pred))\n",
    "\n",
    "print(np.any(np.isnan(lh_fmri_val)))\n",
    "print(np.any(np.isnan(lh_fmri_val_pred)))\n",
    "print(np.any(np.isnan(rh_fmri_val)))\n",
    "print(np.any(np.isnan(rh_fmri_val_pred)))"
   ]
  },
  {
   "cell_type": "code",
   "execution_count": 67,
   "id": "69d1809d",
   "metadata": {},
   "outputs": [
    {
     "name": "stderr",
     "output_type": "stream",
     "text": [
      "volumes: 100%|███████████████████████████████| 159/159 [00:25<00:00,  6.23it/s]\n",
      "volumes: 100%|███████████████████████████████| 159/159 [00:25<00:00,  6.19it/s]\n",
      "volumes: 100%|███████████████████████████████| 159/159 [00:25<00:00,  6.20it/s]\n"
     ]
    },
    {
     "name": "stdout",
     "output_type": "stream",
     "text": [
      "data array passed\n",
      "hemisphere lh: surface_data.shape= (163842, 159)\n"
     ]
    },
    {
     "name": "stderr",
     "output_type": "stream",
     "text": [
      "volumes: 100%|███████████████████████████████| 159/159 [00:25<00:00,  6.19it/s]\n",
      "volumes: 100%|███████████████████████████████| 159/159 [00:25<00:00,  6.19it/s]\n",
      "volumes: 100%|███████████████████████████████| 159/159 [00:25<00:00,  6.19it/s]\n"
     ]
    },
    {
     "name": "stdout",
     "output_type": "stream",
     "text": [
      "data array passed\n",
      "hemisphere rh: surface_data.shape= (163842, 159)\n"
     ]
    }
   ],
   "source": [
    "# convert test predictions\n",
    "out_niimg_path, avg_out_niimg = voxelTo3DNifti(fmri_test_pred)\n",
    "lh_fmri_test, rh_fmri_test = nvTofs(out_niimg_path)"
   ]
  },
  {
   "cell_type": "markdown",
   "id": "f3680b5d",
   "metadata": {},
   "source": [
    "## Evaluations in fsaverage space"
   ]
  },
  {
   "cell_type": "code",
   "execution_count": 68,
   "id": "96e8221c",
   "metadata": {},
   "outputs": [
    {
     "name": "stderr",
     "output_type": "stream",
     "text": [
      "100%|███████████████████████████████| 163842/163842 [00:13<00:00, 12430.91it/s]\n",
      "  1%|▏                                | 1232/163842 [00:00<00:13, 12316.28it/s]/opt/conda/lib/python3.8/site-packages/scipy/stats/stats.py:3913: PearsonRConstantInputWarning: An input array is constant; the correlation coefficent is not defined.\n",
      "  warnings.warn(PearsonRConstantInputWarning())\n",
      "100%|███████████████████████████████| 163842/163842 [00:13<00:00, 12408.94it/s]\n"
     ]
    }
   ],
   "source": [
    "# Empty correlation array of shape: (LH vertices)\n",
    "lh_correlation = np.zeros(lh_fmri_val_pred.shape[0])\n",
    "# Correlate each predicted LH vertex with the corresponding ground truth vertex\n",
    "for v in tqdm(range(lh_fmri_val_pred.shape[0])):\n",
    "    lh_correlation[v] = corr(lh_fmri_val_pred[v,:], lh_fmri_val[v,:])[0]\n",
    "\n",
    "# Empty correlation array of shape: (RH vertices)\n",
    "rh_correlation = np.zeros(rh_fmri_val_pred.shape[0])\n",
    "# Correlate each predicted RH vertex with the corresponding ground truth vertex\n",
    "for v in tqdm(range(rh_fmri_val_pred.shape[0])):\n",
    "    rh_correlation[v] = corr(rh_fmri_val_pred[v,:], rh_fmri_val[v,:])[0]"
   ]
  },
  {
   "cell_type": "code",
   "execution_count": 69,
   "id": "0ffdeadc",
   "metadata": {},
   "outputs": [
    {
     "name": "stdout",
     "output_type": "stream",
     "text": [
      "(163842,)\n",
      "(163842,)\n",
      "(300,)\n"
     ]
    },
    {
     "data": {
      "text/plain": [
       "-0.011925675525254392"
      ]
     },
     "execution_count": 69,
     "metadata": {},
     "output_type": "execute_result"
    }
   ],
   "source": [
    "print(rh_correlation.shape)\n",
    "print(lh_correlation.shape)\n",
    "v=1\n",
    "print(lh_fmri_val_pred[v,:].shape)\n",
    "\n",
    "corr(lh_fmri_val_pred[v,:], lh_fmri_val[v,:])[0]"
   ]
  },
  {
   "cell_type": "code",
   "execution_count": 70,
   "id": "e3010821",
   "metadata": {},
   "outputs": [
    {
     "name": "stdout",
     "output_type": "stream",
     "text": [
      "[-0.22348141 -0.19902986 -0.18198657 ...  0.62774112  0.63112096\n",
      "         nan]\n"
     ]
    }
   ],
   "source": [
    "print(np.unique(rh_correlation))"
   ]
  },
  {
   "cell_type": "code",
   "execution_count": 71,
   "id": "645d87fe",
   "metadata": {},
   "outputs": [
    {
     "name": "stdout",
     "output_type": "stream",
     "text": [
      "53\n",
      "0\n"
     ]
    }
   ],
   "source": [
    "print(np.sum(np.isnan(rh_correlation)))\n",
    "print(np.sum(np.isnan(lh_correlation)))"
   ]
  },
  {
   "cell_type": "code",
   "execution_count": 72,
   "id": "e445c5e0",
   "metadata": {},
   "outputs": [
    {
     "data": {
      "text/plain": [
       "[<matplotlib.lines.Line2D at 0x1522eb018e50>]"
      ]
     },
     "execution_count": 72,
     "metadata": {},
     "output_type": "execute_result"
    },
    {
     "data": {
      "image/png": "[encoded data removed]",
      "text/plain": [
       "<Figure size 432x288 with 1 Axes>"
      ]
     },
     "metadata": {
      "needs_background": "light"
     },
     "output_type": "display_data"
    }
   ],
   "source": [
    "plt.plot(np.sort(rh_correlation))\n",
    "plt.plot(np.sort(lh_correlation))"
   ]
  },
  {
   "cell_type": "code",
   "execution_count": 73,
   "id": "67e034dd",
   "metadata": {},
   "outputs": [],
   "source": [
    "# # get correlation by ROI using NSD files\n",
    "# roi_list = [\"V1v\", \"V1d\", \"V2v\", \"V2d\", \"V3v\", \"V3d\", \"hV4\", \"EBA\", \"FBA-1\", \"FBA-2\", \"mTL-bodies\", \"OFA\", \"FFA-1\", \"FFA-2\", \"mTL-faces\", \"aTL-faces\", \"OPA\", \"PPA\", \"RSC\", \"OWFA\", \"VWFA-1\", \"VWFA-2\", \"mfs-words\", \"mTL-words\", \"early\", \"midventral\", \"midlateral\", \"midparietal\", \"ventral\", \"lateral\", \"parietal\", \"nsdgeneral\"]\n",
    "\n",
    "# lh_roi_correlation = []\n",
    "# rh_roi_correlation = []\n",
    "# for hemisphere in ['left', 'right']:\n",
    "#     if hemisphere == 'left':\n",
    "#         correlation = lh_correlation\n",
    "#     else:\n",
    "#         correlation = rh_correlation\n",
    "#     for roi in tqdm(roi_list):\n",
    "#         mask_roi = getRoiMask(hemisphere,roi, space = 'surface')\n",
    "#         test = np.isnan(mask_roi)\n",
    "#         if True in np.unique(test):\n",
    "#             print(hemisphere, roi)\n",
    "#         print(\"Mask shape:\",mask_roi.shape)\n",
    "#         print(\"Surface fsaverage shape:\",correlation.shape)\n",
    "#         correlation_roi = correlation[mask_roi==1]\n",
    "#         test = np.isnan(correlation_roi)\n",
    "#         if True in np.unique(test):\n",
    "#             print(hemisphere, roi)\n",
    "\n",
    "#         if hemisphere == 'left':\n",
    "#             lh_roi_correlation.append(correlation_roi)\n",
    "#         else:\n",
    "#             rh_roi_correlation.append(correlation_roi)\n",
    "            "
   ]
  },
  {
   "cell_type": "code",
   "execution_count": 74,
   "id": "d22d64ea",
   "metadata": {},
   "outputs": [],
   "source": [
    "# get correlation by ROI using Algonauts files and code\n",
    "\n",
    "# Load the ROI classes mapping dictionaries\n",
    "roi_mapping_files = ['mapping_prf-visualrois.npy', 'mapping_floc-bodies.npy',\n",
    "    'mapping_floc-faces.npy', 'mapping_floc-places.npy',\n",
    "    'mapping_floc-words.npy', 'mapping_streams.npy']\n",
    "roi_name_maps = []\n",
    "for r in roi_mapping_files:\n",
    "    roi_name_maps.append(np.load(os.path.join(args.data_dir, 'roi_masks', r),\n",
    "        allow_pickle=True).item())\n",
    "\n",
    "# Load the ROI brain surface maps\n",
    "lh_challenge_roi_files = ['lh.prf-visualrois_fsaverage_space.npy',\n",
    "    'lh.floc-bodies_fsaverage_space.npy', 'lh.floc-faces_fsaverage_space.npy',\n",
    "    'lh.floc-places_fsaverage_space.npy', 'lh.floc-words_fsaverage_space.npy',\n",
    "    'lh.streams_fsaverage_space.npy']\n",
    "rh_challenge_roi_files = ['rh.prf-visualrois_fsaverage_space.npy',\n",
    "    'rh.floc-bodies_fsaverage_space.npy', 'rh.floc-faces_fsaverage_space.npy',\n",
    "    'rh.floc-places_fsaverage_space.npy', 'rh.floc-words_fsaverage_space.npy',\n",
    "    'rh.streams_fsaverage_space.npy']\n",
    "lh_challenge_rois = []\n",
    "rh_challenge_rois = []\n",
    "for r in range(len(lh_challenge_roi_files)):\n",
    "    lh_challenge_rois.append(np.load(os.path.join(args.data_dir, 'roi_masks',\n",
    "        lh_challenge_roi_files[r])))\n",
    "    rh_challenge_rois.append(np.load(os.path.join(args.data_dir, 'roi_masks',\n",
    "        rh_challenge_roi_files[r])))\n",
    "\n",
    "# Select the correlation results vertices of each ROI\n",
    "roi_names = []\n",
    "lh_roi_correlation = []\n",
    "rh_roi_correlation = []\n",
    "for r1 in range(len(lh_challenge_rois)):\n",
    "    for r2 in roi_name_maps[r1].items():\n",
    "        if r2[0] != 0: # zeros indicate to vertices falling outside the ROI of interest\n",
    "            roi_names.append(r2[1])\n",
    "            lh_roi_idx = np.where(lh_challenge_rois[r1] == r2[0])[0]\n",
    "            rh_roi_idx = np.where(rh_challenge_rois[r1] == r2[0])[0]\n",
    "            lh_roi_correlation.append(lh_correlation[lh_roi_idx])\n",
    "            rh_roi_correlation.append(rh_correlation[rh_roi_idx])\n",
    "            \n",
    "roi_names.append('nsdgeneral')\n",
    "nsdgeneral_lh = np.load(os.path.join(args.data_dir, 'roi_masks',\n",
    "    'lh.all-vertices_fsaverage_space.npy'))\n",
    "nsdgeneral_rh = np.load(os.path.join(args.data_dir, 'roi_masks',\n",
    "    'rh.all-vertices_fsaverage_space.npy'))\n",
    "nsdgeneral_lh = lh_correlation[nsdgeneral_lh==1]\n",
    "nsdgeneral_rh = rh_correlation[nsdgeneral_rh==1]\n",
    "lh_roi_correlation.append(nsdgeneral_lh)\n",
    "rh_roi_correlation.append(nsdgeneral_rh)"
   ]
  },
  {
   "cell_type": "code",
   "execution_count": 75,
   "id": "e8ec20be",
   "metadata": {},
   "outputs": [
    {
     "name": "stdout",
     "output_type": "stream",
     "text": [
      "32\n",
      "32\n",
      "(20544,)\n",
      "(444,)\n",
      "right\n",
      "V1v\n",
      "\n",
      "right\n",
      "V1d\n",
      "\n",
      "right\n",
      "V2v\n",
      "\n",
      "right\n",
      "V2d\n",
      "\n",
      "right\n",
      "V3v\n",
      "\n",
      "right\n",
      "V3d\n",
      "\n",
      "right\n",
      "hV4\n",
      "\n",
      "right\n",
      "EBA\n",
      "\n",
      "right\n",
      "FBA-1\n",
      "\n",
      "right\n",
      "FBA-2\n",
      "\n",
      "right\n",
      "OFA\n",
      "\n",
      "right\n",
      "FFA-1\n",
      "\n",
      "right\n",
      "FFA-2\n",
      "\n",
      "right\n",
      "OPA\n",
      "\n",
      "right\n",
      "PPA\n",
      "\n",
      "right\n",
      "RSC\n",
      "\n",
      "right\n",
      "OWFA\n",
      "\n",
      "right\n",
      "VWFA-1\n",
      "\n",
      "right\n",
      "VWFA-2\n",
      "\n",
      "right\n",
      "early\n",
      "\n",
      "right\n",
      "midventral\n",
      "\n",
      "right\n",
      "midlateral\n",
      "\n",
      "right\n",
      "midparietal\n",
      "\n",
      "right\n",
      "ventral\n",
      "\n",
      "right\n",
      "lateral\n",
      "\n",
      "right\n",
      "parietal\n",
      "\n",
      "right\n",
      "nsdgeneral\n",
      "\n",
      "[ True  True  True ...  True  True  True]\n",
      "0.12215525193321407\n"
     ]
    }
   ],
   "source": [
    "print(len(lh_roi_correlation))\n",
    "print(len(rh_roi_correlation))\n",
    "print(rh_roi_correlation[31].shape)\n",
    "print(rh_roi_correlation[0].shape)\n",
    "for i, roi in enumerate(roi_list):\n",
    "    if np.any(np.isnan(lh_roi_correlation[i])):\n",
    "        print('left')\n",
    "        print(roi)\n",
    "        print()\n",
    "    if np.any(~np.isnan(rh_roi_correlation[i])):\n",
    "        print('right')\n",
    "        print(roi)\n",
    "        print()\n",
    "test = np.array(rh_roi_correlation[31])\n",
    "print(~np.isnan(rh_roi_correlation[31]))\n",
    "correlationmod = test[~np.isnan(test)==True]\n",
    "print(np.median(correlationmod))"
   ]
  },
  {
   "cell_type": "code",
   "execution_count": 76,
   "id": "3761eeaf",
   "metadata": {},
   "outputs": [],
   "source": [
    "# # Create the plot\n",
    "# lh_median_roi_correlation = [np.median(lh_roi_correlation[r]) for r in range(len(lh_roi_correlation))]\n",
    "# rh_median_roi_correlation = [np.median(rh_roi_correlation[r]) for r in range(len(rh_roi_correlation))]\n",
    "# plt.figure(figsize=(18,6))\n",
    "# x = np.arange(len(roi_list))\n",
    "# width = 0.30\n",
    "# plt.bar(x - width/2, lh_median_roi_correlation, width, label='Left Hemisphere')\n",
    "# plt.bar(x + width/2, rh_median_roi_correlation, width,label='Right Hemishpere')\n",
    "# plt.xlim(left=min(x)-.5, right=max(x)+.5)\n",
    "# plt.ylim(bottom=0, top=1)\n",
    "# plt.xlabel('ROIs')\n",
    "# plt.xticks(ticks=x, labels=roi_list, rotation=60)\n",
    "# plt.ylabel('Median Pearson\\'s $r$')\n",
    "# plt.legend(frameon=True, loc=1);\n",
    "# plt.title(\"Correlations by ROI in fsaverage surface space.\")"
   ]
  },
  {
   "cell_type": "code",
   "execution_count": 77,
   "id": "57bc72ac",
   "metadata": {},
   "outputs": [
    {
     "name": "stdout",
     "output_type": "stream",
     "text": [
      "[ 0.07774911 -0.01192568  0.01014855 ... -0.01375464 -0.00870127\n",
      "  0.04505775]\n",
      "(163842,)\n",
      "(2346,)\n"
     ]
    }
   ],
   "source": [
    "print(lh_correlation)\n",
    "print(lh_correlation.shape)\n",
    "print(lh_roi_correlation[30].shape)"
   ]
  },
  {
   "cell_type": "code",
   "execution_count": 78,
   "id": "05c26f4c",
   "metadata": {},
   "outputs": [
    {
     "name": "stderr",
     "output_type": "stream",
     "text": [
      "/opt/conda/lib/python3.8/site-packages/numpy/core/fromnumeric.py:3474: RuntimeWarning: Mean of empty slice.\n",
      "  return _methods._mean(a, axis=axis, dtype=dtype,\n",
      "/opt/conda/lib/python3.8/site-packages/numpy/core/_methods.py:189: RuntimeWarning: invalid value encountered in double_scalars\n",
      "  ret = ret.dtype.type(ret / rcount)\n"
     ]
    },
    {
     "data": {
      "image/png": "[encoded data removed]",
      "text/plain": [
       "<Figure size 1296x432 with 1 Axes>"
      ]
     },
     "metadata": {
      "needs_background": "light"
     },
     "output_type": "display_data"
    }
   ],
   "source": [
    "# Create the plot\n",
    "lh_median_roi_correlation_fs = [np.median(lh_roi_correlation[r])\n",
    "    for r in range(len(lh_roi_correlation))]\n",
    "rh_median_roi_correlation_fs = [np.median(rh_roi_correlation[r])\n",
    "    for r in range(len(rh_roi_correlation))]\n",
    "plt.figure(figsize=(18,6))\n",
    "x = np.arange(len(roi_names))\n",
    "width = 0.30\n",
    "plt.bar(x - width/2, lh_median_roi_correlation_fs, width, label='Left Hemisphere')\n",
    "plt.bar(x + width/2, rh_median_roi_correlation_fs, width,\n",
    "    label='Right Hemishpere')\n",
    "plt.xlim(left=min(x)-.5, right=max(x)+.5)\n",
    "# plt.ylim(bottom=0, top=1)\n",
    "plt.xlabel('ROIs')\n",
    "plt.xticks(ticks=x, labels=roi_names, rotation=60)\n",
    "plt.ylabel('Median Pearson\\'s $r$')\n",
    "plt.legend(frameon=True, loc=1)\n",
    "plt.title(\"Correlations by ROI in fsaverage surface space.\");"
   ]
  },
  {
   "cell_type": "markdown",
   "id": "74d3ca40",
   "metadata": {},
   "source": [
    "### Effect on ROI corelations when converting from native voxel to surface fsaverage space"
   ]
  },
  {
   "cell_type": "code",
   "execution_count": 79,
   "id": "ac15ce1d",
   "metadata": {},
   "outputs": [
    {
     "data": {
      "image/png": "[encoded data removed]",
      "text/plain": [
       "<Figure size 1296x432 with 1 Axes>"
      ]
     },
     "metadata": {
      "needs_background": "light"
     },
     "output_type": "display_data"
    }
   ],
   "source": [
    "lh_correlation_change = np.array(lh_median_roi_correlation_fs)/np.array(lh_median_roi_correlation_nv)*100-100\n",
    "rh_correlation_change = np.array(rh_median_roi_correlation_fs)/np.array(rh_median_roi_correlation_nv)*100-100\n",
    "plt.figure(figsize=(18,6))\n",
    "x = np.arange(len(roi_names))\n",
    "width = 0.30\n",
    "plt.bar(x - width/2, lh_correlation_change, width, label='Left Hemisphere')\n",
    "plt.bar(x + width/2, rh_correlation_change, width,\n",
    "    label='Right Hemishpere')\n",
    "plt.xlim(left=min(x)-.5, right=max(x)+.5)\n",
    "# plt.ylim(bottom=0, top=1)\n",
    "plt.xlabel('ROIs')\n",
    "plt.xticks(ticks=x, labels=roi_names, rotation=60)\n",
    "plt.ylabel('% change')\n",
    "plt.legend(frameon=True, loc=1)\n",
    "plt.title(\"Percent change in correlation by ROI\");"
   ]
  },
  {
   "cell_type": "markdown",
   "id": "9cb8553c",
   "metadata": {},
   "source": [
    "## Visualize surface activations"
   ]
  },
  {
   "cell_type": "code",
   "execution_count": 80,
   "id": "e4b7ef8a",
   "metadata": {
    "tags": []
   },
   "outputs": [
    {
     "name": "stdout",
     "output_type": "stream",
     "text": [
      "(163842, 300)\n",
      "(163842, 300)\n"
     ]
    },
    {
     "data": {
      "image/png": "[encoded data removed]",
      "text/plain": [
       "<Figure size 338.4x288 with 2 Axes>"
      ]
     },
     "metadata": {
      "needs_background": "light"
     },
     "output_type": "display_data"
    },
    {
     "data": {
      "image/png": "[encoded data removed]",
      "text/plain": [
       "<Figure size 338.4x288 with 2 Axes>"
      ]
     },
     "metadata": {
      "needs_background": "light"
     },
     "output_type": "display_data"
    }
   ],
   "source": [
    "# Create the interactive brain surface map\n",
    "from nilearn import datasets\n",
    "for hemisphere in ['left','right']:\n",
    "    if hemisphere=='left':\n",
    "        surface_data = lh_fmri_val_pred\n",
    "    elif hemisphere=='right':\n",
    "        surface_data = rh_fmri_val_pred\n",
    "    #fsaverage = datasets.fetch_surf_fsaverage('fsaverage')\n",
    "    fsaverage = datasets.fetch_surf_fsaverage('fsaverage', data_dir='/scratch/gpfs/dw26')\n",
    "    print(surface_data.shape)\n",
    "    plotting.plot_surf(\n",
    "        surf_mesh=fsaverage['infl_'+hemisphere],\n",
    "        surf_map=np.mean(surface_data,axis=1),\n",
    "#         surf_map = surface_data,\n",
    "        bg_map=fsaverage['sulc_'+hemisphere],\n",
    "        hemi=hemisphere,\n",
    "        view='lateral',\n",
    "        threshold=1e-14,\n",
    "        cmap='cold_hot',\n",
    "        colorbar=True,\n",
    "        title='All vertices, '+hemisphere+' hemisphere'\n",
    "        )"
   ]
  },
  {
   "cell_type": "markdown",
   "id": "40251134",
   "metadata": {},
   "source": [
    "# Save results in a way compatible with Algonauts submission\n",
    "After predicted data of all subjects and hemispheres have been saved, zip the parent submission folder (algonauts_2023_challenge_submission), which can then be submitted to CodaLab."
   ]
  },
  {
   "cell_type": "code",
   "execution_count": 81,
   "id": "f0db81bb",
   "metadata": {
    "tags": []
   },
   "outputs": [
    {
     "name": "stdout",
     "output_type": "stream",
     "text": [
      "Saved predictions!\n"
     ]
    }
   ],
   "source": [
    "np.save(f'algonauts_2023_challenge_submission/subj{subject}/lh_pred_test.npy',lh_fmri_test)\n",
    "np.save(f'algonauts_2023_challenge_submission/subj{subject}/rh_pred_test.npy',rh_fmri_test)\n",
    "print(\"Saved predictions!\")"
   ]
  },
  {
   "cell_type": "code",
   "execution_count": null,
   "id": "60d0b4be",
   "metadata": {},
   "outputs": [],
   "source": []
  }
 ],
 "metadata": {
  "kernelspec": {
   "display_name": "Python 3 (ipykernel)",
   "language": "python",
   "name": "python3"
  },
  "language_info": {
   "codemirror_mode": {
    "name": "ipython",
    "version": 3
   },
   "file_extension": ".py",
   "mimetype": "text/x-python",
   "name": "python",
   "nbconvert_exporter": "python",
   "pygments_lexer": "ipython3",
   "version": "3.8.13"
  }
 },
 "nbformat": 4,
 "nbformat_minor": 5
}
